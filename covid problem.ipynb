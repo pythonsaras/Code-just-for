{
 "cells": [
  {
   "cell_type": "code",
   "execution_count": 1,
   "id": "54d99f66",
   "metadata": {},
   "outputs": [
    {
     "name": "stdout",
     "output_type": "stream",
     "text": [
      "           date  new_cases  new_deaths  new_tests\n",
      "0    2019-12-31        0.0         0.0        NaN\n",
      "1    2020-01-01        0.0         0.0        NaN\n",
      "2    2020-01-02        0.0         0.0        NaN\n",
      "3    2020-01-03        0.0         0.0        NaN\n",
      "4    2020-01-04        0.0         0.0        NaN\n",
      "..          ...        ...         ...        ...\n",
      "243  2020-08-30     1444.0         1.0    53541.0\n",
      "244  2020-08-31     1365.0         4.0    42583.0\n",
      "245  2020-09-01      996.0         6.0    54395.0\n",
      "246  2020-09-02      975.0         8.0        NaN\n",
      "247  2020-09-03     1326.0         6.0        NaN\n",
      "\n",
      "[248 rows x 4 columns]\n"
     ]
    }
   ],
   "source": [
    "import pandas as pd\n",
    "covid_df=pd.read_csv('italy-covid-daywise.csv')\n",
    "print(covid_df)\n"
   ]
  },
  {
   "cell_type": "code",
   "execution_count": 2,
   "id": "6056d416",
   "metadata": {},
   "outputs": [
    {
     "name": "stdout",
     "output_type": "stream",
     "text": [
      "         new_cases  new_deaths     new_tests\n",
      "count   248.000000  248.000000    135.000000\n",
      "mean   1094.818548  143.133065  31699.674074\n",
      "std    1554.508002  227.105538  11622.209757\n",
      "min    -148.000000  -31.000000   7841.000000\n",
      "25%     123.000000    3.000000  25259.000000\n",
      "50%     342.000000   17.000000  29545.000000\n",
      "75%    1371.750000  175.250000  37711.000000\n",
      "max    6557.000000  971.000000  95273.000000\n"
     ]
    }
   ],
   "source": [
    "print(covid_df.describe())"
   ]
  },
  {
   "cell_type": "code",
   "execution_count": 3,
   "id": "642f3669",
   "metadata": {},
   "outputs": [
    {
     "name": "stdout",
     "output_type": "stream",
     "text": [
      "<class 'pandas.core.frame.DataFrame'>\n",
      "RangeIndex: 248 entries, 0 to 247\n",
      "Data columns (total 4 columns):\n",
      " #   Column      Non-Null Count  Dtype  \n",
      "---  ------      --------------  -----  \n",
      " 0   date        248 non-null    object \n",
      " 1   new_cases   248 non-null    float64\n",
      " 2   new_deaths  248 non-null    float64\n",
      " 3   new_tests   135 non-null    float64\n",
      "dtypes: float64(3), object(1)\n",
      "memory usage: 7.9+ KB\n",
      "None\n"
     ]
    }
   ],
   "source": [
    "print(covid_df.info())"
   ]
  },
  {
   "cell_type": "code",
   "execution_count": 4,
   "id": "781df8f6",
   "metadata": {},
   "outputs": [
    {
     "name": "stdout",
     "output_type": "stream",
     "text": [
      "Index(['date', 'new_cases', 'new_deaths', 'new_tests'], dtype='object')\n"
     ]
    }
   ],
   "source": [
    "print(covid_df.columns)"
   ]
  },
  {
   "cell_type": "code",
   "execution_count": 5,
   "id": "ad19b580",
   "metadata": {},
   "outputs": [
    {
     "data": {
      "text/plain": [
       "113"
      ]
     },
     "execution_count": 5,
     "metadata": {},
     "output_type": "execute_result"
    }
   ],
   "source": [
    "covid_df.isnull().sum().sum()"
   ]
  },
  {
   "cell_type": "code",
   "execution_count": 6,
   "id": "c34dc9f3",
   "metadata": {},
   "outputs": [
    {
     "data": {
      "text/plain": [
       "date            0\n",
       "new_cases       0\n",
       "new_deaths      0\n",
       "new_tests     113\n",
       "dtype: int64"
      ]
     },
     "execution_count": 6,
     "metadata": {},
     "output_type": "execute_result"
    }
   ],
   "source": [
    "covid_df.isnull().sum()"
   ]
  },
  {
   "cell_type": "code",
   "execution_count": 7,
   "id": "0bbfc895",
   "metadata": {},
   "outputs": [],
   "source": [
    "from matplotlib import pyplot as plt\n",
    "total_case=covid_df.new_cases.sum()\n",
    "total_death=covid_df.new_deaths.sum()"
   ]
  },
  {
   "cell_type": "code",
   "execution_count": 8,
   "id": "ee496f00",
   "metadata": {},
   "outputs": [
    {
     "name": "stdout",
     "output_type": "stream",
     "text": [
      "35497.0 271515.0\n",
      "0.13073679170579894\n"
     ]
    }
   ],
   "source": [
    "print(total_death,total_case)\n",
    "death_rate=total_death/total_case\n",
    "print(death_rate)"
   ]
  },
  {
   "cell_type": "code",
   "execution_count": 9,
   "id": "f0f56535",
   "metadata": {},
   "outputs": [
    {
     "name": "stdout",
     "output_type": "stream",
     "text": [
      "0.06344614829548428\n"
     ]
    }
   ],
   "source": [
    "total_test=covid_df.new_tests.sum()\n",
    "positive_rate=total_case/total_test\n",
    "print(positive_rate)"
   ]
  },
  {
   "cell_type": "code",
   "execution_count": 10,
   "id": "dca719cf",
   "metadata": {},
   "outputs": [
    {
     "data": {
      "text/html": [
       "<div>\n",
       "<style scoped>\n",
       "    .dataframe tbody tr th:only-of-type {\n",
       "        vertical-align: middle;\n",
       "    }\n",
       "\n",
       "    .dataframe tbody tr th {\n",
       "        vertical-align: top;\n",
       "    }\n",
       "\n",
       "    .dataframe thead th {\n",
       "        text-align: right;\n",
       "    }\n",
       "</style>\n",
       "<table border=\"1\" class=\"dataframe\">\n",
       "  <thead>\n",
       "    <tr style=\"text-align: right;\">\n",
       "      <th></th>\n",
       "      <th>date</th>\n",
       "      <th>new_cases</th>\n",
       "      <th>new_deaths</th>\n",
       "      <th>new_tests</th>\n",
       "    </tr>\n",
       "  </thead>\n",
       "  <tbody>\n",
       "    <tr>\n",
       "      <th>68</th>\n",
       "      <td>2020-03-08</td>\n",
       "      <td>1247.0</td>\n",
       "      <td>36.0</td>\n",
       "      <td>NaN</td>\n",
       "    </tr>\n",
       "    <tr>\n",
       "      <th>69</th>\n",
       "      <td>2020-03-09</td>\n",
       "      <td>1492.0</td>\n",
       "      <td>133.0</td>\n",
       "      <td>NaN</td>\n",
       "    </tr>\n",
       "    <tr>\n",
       "      <th>70</th>\n",
       "      <td>2020-03-10</td>\n",
       "      <td>1797.0</td>\n",
       "      <td>98.0</td>\n",
       "      <td>NaN</td>\n",
       "    </tr>\n",
       "    <tr>\n",
       "      <th>72</th>\n",
       "      <td>2020-03-12</td>\n",
       "      <td>2313.0</td>\n",
       "      <td>196.0</td>\n",
       "      <td>NaN</td>\n",
       "    </tr>\n",
       "    <tr>\n",
       "      <th>73</th>\n",
       "      <td>2020-03-13</td>\n",
       "      <td>2651.0</td>\n",
       "      <td>189.0</td>\n",
       "      <td>NaN</td>\n",
       "    </tr>\n",
       "    <tr>\n",
       "      <th>74</th>\n",
       "      <td>2020-03-14</td>\n",
       "      <td>2547.0</td>\n",
       "      <td>252.0</td>\n",
       "      <td>NaN</td>\n",
       "    </tr>\n",
       "    <tr>\n",
       "      <th>75</th>\n",
       "      <td>2020-03-15</td>\n",
       "      <td>3497.0</td>\n",
       "      <td>173.0</td>\n",
       "      <td>NaN</td>\n",
       "    </tr>\n",
       "    <tr>\n",
       "      <th>76</th>\n",
       "      <td>2020-03-16</td>\n",
       "      <td>2823.0</td>\n",
       "      <td>370.0</td>\n",
       "      <td>NaN</td>\n",
       "    </tr>\n",
       "    <tr>\n",
       "      <th>77</th>\n",
       "      <td>2020-03-17</td>\n",
       "      <td>4000.0</td>\n",
       "      <td>347.0</td>\n",
       "      <td>NaN</td>\n",
       "    </tr>\n",
       "    <tr>\n",
       "      <th>78</th>\n",
       "      <td>2020-03-18</td>\n",
       "      <td>3526.0</td>\n",
       "      <td>347.0</td>\n",
       "      <td>NaN</td>\n",
       "    </tr>\n",
       "    <tr>\n",
       "      <th>79</th>\n",
       "      <td>2020-03-19</td>\n",
       "      <td>4207.0</td>\n",
       "      <td>473.0</td>\n",
       "      <td>NaN</td>\n",
       "    </tr>\n",
       "    <tr>\n",
       "      <th>80</th>\n",
       "      <td>2020-03-20</td>\n",
       "      <td>5322.0</td>\n",
       "      <td>429.0</td>\n",
       "      <td>NaN</td>\n",
       "    </tr>\n",
       "    <tr>\n",
       "      <th>81</th>\n",
       "      <td>2020-03-21</td>\n",
       "      <td>5986.0</td>\n",
       "      <td>625.0</td>\n",
       "      <td>NaN</td>\n",
       "    </tr>\n",
       "    <tr>\n",
       "      <th>82</th>\n",
       "      <td>2020-03-22</td>\n",
       "      <td>6557.0</td>\n",
       "      <td>795.0</td>\n",
       "      <td>NaN</td>\n",
       "    </tr>\n",
       "    <tr>\n",
       "      <th>83</th>\n",
       "      <td>2020-03-23</td>\n",
       "      <td>5560.0</td>\n",
       "      <td>649.0</td>\n",
       "      <td>NaN</td>\n",
       "    </tr>\n",
       "    <tr>\n",
       "      <th>84</th>\n",
       "      <td>2020-03-24</td>\n",
       "      <td>4789.0</td>\n",
       "      <td>601.0</td>\n",
       "      <td>NaN</td>\n",
       "    </tr>\n",
       "    <tr>\n",
       "      <th>85</th>\n",
       "      <td>2020-03-25</td>\n",
       "      <td>5249.0</td>\n",
       "      <td>743.0</td>\n",
       "      <td>NaN</td>\n",
       "    </tr>\n",
       "    <tr>\n",
       "      <th>86</th>\n",
       "      <td>2020-03-26</td>\n",
       "      <td>5210.0</td>\n",
       "      <td>685.0</td>\n",
       "      <td>NaN</td>\n",
       "    </tr>\n",
       "    <tr>\n",
       "      <th>87</th>\n",
       "      <td>2020-03-27</td>\n",
       "      <td>6153.0</td>\n",
       "      <td>660.0</td>\n",
       "      <td>NaN</td>\n",
       "    </tr>\n",
       "    <tr>\n",
       "      <th>88</th>\n",
       "      <td>2020-03-28</td>\n",
       "      <td>5959.0</td>\n",
       "      <td>971.0</td>\n",
       "      <td>NaN</td>\n",
       "    </tr>\n",
       "    <tr>\n",
       "      <th>89</th>\n",
       "      <td>2020-03-29</td>\n",
       "      <td>5974.0</td>\n",
       "      <td>887.0</td>\n",
       "      <td>NaN</td>\n",
       "    </tr>\n",
       "    <tr>\n",
       "      <th>90</th>\n",
       "      <td>2020-03-30</td>\n",
       "      <td>5217.0</td>\n",
       "      <td>758.0</td>\n",
       "      <td>NaN</td>\n",
       "    </tr>\n",
       "    <tr>\n",
       "      <th>91</th>\n",
       "      <td>2020-03-31</td>\n",
       "      <td>4050.0</td>\n",
       "      <td>810.0</td>\n",
       "      <td>NaN</td>\n",
       "    </tr>\n",
       "    <tr>\n",
       "      <th>92</th>\n",
       "      <td>2020-04-01</td>\n",
       "      <td>4053.0</td>\n",
       "      <td>839.0</td>\n",
       "      <td>NaN</td>\n",
       "    </tr>\n",
       "    <tr>\n",
       "      <th>93</th>\n",
       "      <td>2020-04-02</td>\n",
       "      <td>4782.0</td>\n",
       "      <td>727.0</td>\n",
       "      <td>NaN</td>\n",
       "    </tr>\n",
       "    <tr>\n",
       "      <th>94</th>\n",
       "      <td>2020-04-03</td>\n",
       "      <td>4668.0</td>\n",
       "      <td>760.0</td>\n",
       "      <td>NaN</td>\n",
       "    </tr>\n",
       "    <tr>\n",
       "      <th>95</th>\n",
       "      <td>2020-04-04</td>\n",
       "      <td>4585.0</td>\n",
       "      <td>764.0</td>\n",
       "      <td>NaN</td>\n",
       "    </tr>\n",
       "    <tr>\n",
       "      <th>96</th>\n",
       "      <td>2020-04-05</td>\n",
       "      <td>4805.0</td>\n",
       "      <td>681.0</td>\n",
       "      <td>NaN</td>\n",
       "    </tr>\n",
       "    <tr>\n",
       "      <th>97</th>\n",
       "      <td>2020-04-06</td>\n",
       "      <td>4316.0</td>\n",
       "      <td>527.0</td>\n",
       "      <td>NaN</td>\n",
       "    </tr>\n",
       "    <tr>\n",
       "      <th>98</th>\n",
       "      <td>2020-04-07</td>\n",
       "      <td>3599.0</td>\n",
       "      <td>636.0</td>\n",
       "      <td>NaN</td>\n",
       "    </tr>\n",
       "    <tr>\n",
       "      <th>99</th>\n",
       "      <td>2020-04-08</td>\n",
       "      <td>3039.0</td>\n",
       "      <td>604.0</td>\n",
       "      <td>NaN</td>\n",
       "    </tr>\n",
       "    <tr>\n",
       "      <th>100</th>\n",
       "      <td>2020-04-09</td>\n",
       "      <td>3836.0</td>\n",
       "      <td>540.0</td>\n",
       "      <td>NaN</td>\n",
       "    </tr>\n",
       "    <tr>\n",
       "      <th>101</th>\n",
       "      <td>2020-04-10</td>\n",
       "      <td>4204.0</td>\n",
       "      <td>612.0</td>\n",
       "      <td>NaN</td>\n",
       "    </tr>\n",
       "    <tr>\n",
       "      <th>102</th>\n",
       "      <td>2020-04-11</td>\n",
       "      <td>3951.0</td>\n",
       "      <td>570.0</td>\n",
       "      <td>NaN</td>\n",
       "    </tr>\n",
       "    <tr>\n",
       "      <th>103</th>\n",
       "      <td>2020-04-12</td>\n",
       "      <td>4694.0</td>\n",
       "      <td>619.0</td>\n",
       "      <td>NaN</td>\n",
       "    </tr>\n",
       "    <tr>\n",
       "      <th>104</th>\n",
       "      <td>2020-04-13</td>\n",
       "      <td>4092.0</td>\n",
       "      <td>431.0</td>\n",
       "      <td>NaN</td>\n",
       "    </tr>\n",
       "    <tr>\n",
       "      <th>105</th>\n",
       "      <td>2020-04-14</td>\n",
       "      <td>3153.0</td>\n",
       "      <td>564.0</td>\n",
       "      <td>NaN</td>\n",
       "    </tr>\n",
       "    <tr>\n",
       "      <th>106</th>\n",
       "      <td>2020-04-15</td>\n",
       "      <td>2972.0</td>\n",
       "      <td>604.0</td>\n",
       "      <td>NaN</td>\n",
       "    </tr>\n",
       "    <tr>\n",
       "      <th>107</th>\n",
       "      <td>2020-04-16</td>\n",
       "      <td>2667.0</td>\n",
       "      <td>578.0</td>\n",
       "      <td>NaN</td>\n",
       "    </tr>\n",
       "    <tr>\n",
       "      <th>108</th>\n",
       "      <td>2020-04-17</td>\n",
       "      <td>3786.0</td>\n",
       "      <td>525.0</td>\n",
       "      <td>NaN</td>\n",
       "    </tr>\n",
       "    <tr>\n",
       "      <th>109</th>\n",
       "      <td>2020-04-18</td>\n",
       "      <td>3493.0</td>\n",
       "      <td>575.0</td>\n",
       "      <td>NaN</td>\n",
       "    </tr>\n",
       "    <tr>\n",
       "      <th>110</th>\n",
       "      <td>2020-04-19</td>\n",
       "      <td>3491.0</td>\n",
       "      <td>480.0</td>\n",
       "      <td>NaN</td>\n",
       "    </tr>\n",
       "    <tr>\n",
       "      <th>111</th>\n",
       "      <td>2020-04-20</td>\n",
       "      <td>3047.0</td>\n",
       "      <td>433.0</td>\n",
       "      <td>7841.0</td>\n",
       "    </tr>\n",
       "    <tr>\n",
       "      <th>112</th>\n",
       "      <td>2020-04-21</td>\n",
       "      <td>2256.0</td>\n",
       "      <td>454.0</td>\n",
       "      <td>28095.0</td>\n",
       "    </tr>\n",
       "    <tr>\n",
       "      <th>113</th>\n",
       "      <td>2020-04-22</td>\n",
       "      <td>2729.0</td>\n",
       "      <td>534.0</td>\n",
       "      <td>44248.0</td>\n",
       "    </tr>\n",
       "    <tr>\n",
       "      <th>114</th>\n",
       "      <td>2020-04-23</td>\n",
       "      <td>3370.0</td>\n",
       "      <td>437.0</td>\n",
       "      <td>37083.0</td>\n",
       "    </tr>\n",
       "    <tr>\n",
       "      <th>115</th>\n",
       "      <td>2020-04-24</td>\n",
       "      <td>2646.0</td>\n",
       "      <td>464.0</td>\n",
       "      <td>95273.0</td>\n",
       "    </tr>\n",
       "    <tr>\n",
       "      <th>116</th>\n",
       "      <td>2020-04-25</td>\n",
       "      <td>3021.0</td>\n",
       "      <td>420.0</td>\n",
       "      <td>38676.0</td>\n",
       "    </tr>\n",
       "    <tr>\n",
       "      <th>117</th>\n",
       "      <td>2020-04-26</td>\n",
       "      <td>2357.0</td>\n",
       "      <td>415.0</td>\n",
       "      <td>24113.0</td>\n",
       "    </tr>\n",
       "    <tr>\n",
       "      <th>118</th>\n",
       "      <td>2020-04-27</td>\n",
       "      <td>2324.0</td>\n",
       "      <td>260.0</td>\n",
       "      <td>26678.0</td>\n",
       "    </tr>\n",
       "    <tr>\n",
       "      <th>119</th>\n",
       "      <td>2020-04-28</td>\n",
       "      <td>1739.0</td>\n",
       "      <td>333.0</td>\n",
       "      <td>37554.0</td>\n",
       "    </tr>\n",
       "    <tr>\n",
       "      <th>120</th>\n",
       "      <td>2020-04-29</td>\n",
       "      <td>2091.0</td>\n",
       "      <td>382.0</td>\n",
       "      <td>38589.0</td>\n",
       "    </tr>\n",
       "    <tr>\n",
       "      <th>121</th>\n",
       "      <td>2020-04-30</td>\n",
       "      <td>2086.0</td>\n",
       "      <td>323.0</td>\n",
       "      <td>41441.0</td>\n",
       "    </tr>\n",
       "    <tr>\n",
       "      <th>122</th>\n",
       "      <td>2020-05-01</td>\n",
       "      <td>1872.0</td>\n",
       "      <td>285.0</td>\n",
       "      <td>43732.0</td>\n",
       "    </tr>\n",
       "    <tr>\n",
       "      <th>123</th>\n",
       "      <td>2020-05-02</td>\n",
       "      <td>1965.0</td>\n",
       "      <td>269.0</td>\n",
       "      <td>31231.0</td>\n",
       "    </tr>\n",
       "    <tr>\n",
       "      <th>124</th>\n",
       "      <td>2020-05-03</td>\n",
       "      <td>1900.0</td>\n",
       "      <td>474.0</td>\n",
       "      <td>27047.0</td>\n",
       "    </tr>\n",
       "    <tr>\n",
       "      <th>125</th>\n",
       "      <td>2020-05-04</td>\n",
       "      <td>1389.0</td>\n",
       "      <td>174.0</td>\n",
       "      <td>22999.0</td>\n",
       "    </tr>\n",
       "    <tr>\n",
       "      <th>126</th>\n",
       "      <td>2020-05-05</td>\n",
       "      <td>1221.0</td>\n",
       "      <td>195.0</td>\n",
       "      <td>32211.0</td>\n",
       "    </tr>\n",
       "    <tr>\n",
       "      <th>127</th>\n",
       "      <td>2020-05-06</td>\n",
       "      <td>1075.0</td>\n",
       "      <td>236.0</td>\n",
       "      <td>37771.0</td>\n",
       "    </tr>\n",
       "    <tr>\n",
       "      <th>128</th>\n",
       "      <td>2020-05-07</td>\n",
       "      <td>1444.0</td>\n",
       "      <td>369.0</td>\n",
       "      <td>13665.0</td>\n",
       "    </tr>\n",
       "    <tr>\n",
       "      <th>129</th>\n",
       "      <td>2020-05-08</td>\n",
       "      <td>1401.0</td>\n",
       "      <td>274.0</td>\n",
       "      <td>45428.0</td>\n",
       "    </tr>\n",
       "    <tr>\n",
       "      <th>130</th>\n",
       "      <td>2020-05-09</td>\n",
       "      <td>1327.0</td>\n",
       "      <td>243.0</td>\n",
       "      <td>36091.0</td>\n",
       "    </tr>\n",
       "    <tr>\n",
       "      <th>131</th>\n",
       "      <td>2020-05-10</td>\n",
       "      <td>1083.0</td>\n",
       "      <td>194.0</td>\n",
       "      <td>31384.0</td>\n",
       "    </tr>\n",
       "    <tr>\n",
       "      <th>134</th>\n",
       "      <td>2020-05-13</td>\n",
       "      <td>1402.0</td>\n",
       "      <td>172.0</td>\n",
       "      <td>37049.0</td>\n",
       "    </tr>\n",
       "    <tr>\n",
       "      <th>236</th>\n",
       "      <td>2020-08-23</td>\n",
       "      <td>1071.0</td>\n",
       "      <td>3.0</td>\n",
       "      <td>47463.0</td>\n",
       "    </tr>\n",
       "    <tr>\n",
       "      <th>237</th>\n",
       "      <td>2020-08-24</td>\n",
       "      <td>1209.0</td>\n",
       "      <td>7.0</td>\n",
       "      <td>33358.0</td>\n",
       "    </tr>\n",
       "    <tr>\n",
       "      <th>240</th>\n",
       "      <td>2020-08-27</td>\n",
       "      <td>1366.0</td>\n",
       "      <td>13.0</td>\n",
       "      <td>57640.0</td>\n",
       "    </tr>\n",
       "    <tr>\n",
       "      <th>241</th>\n",
       "      <td>2020-08-28</td>\n",
       "      <td>1409.0</td>\n",
       "      <td>5.0</td>\n",
       "      <td>65135.0</td>\n",
       "    </tr>\n",
       "    <tr>\n",
       "      <th>242</th>\n",
       "      <td>2020-08-29</td>\n",
       "      <td>1460.0</td>\n",
       "      <td>9.0</td>\n",
       "      <td>64294.0</td>\n",
       "    </tr>\n",
       "    <tr>\n",
       "      <th>243</th>\n",
       "      <td>2020-08-30</td>\n",
       "      <td>1444.0</td>\n",
       "      <td>1.0</td>\n",
       "      <td>53541.0</td>\n",
       "    </tr>\n",
       "    <tr>\n",
       "      <th>244</th>\n",
       "      <td>2020-08-31</td>\n",
       "      <td>1365.0</td>\n",
       "      <td>4.0</td>\n",
       "      <td>42583.0</td>\n",
       "    </tr>\n",
       "    <tr>\n",
       "      <th>247</th>\n",
       "      <td>2020-09-03</td>\n",
       "      <td>1326.0</td>\n",
       "      <td>6.0</td>\n",
       "      <td>NaN</td>\n",
       "    </tr>\n",
       "  </tbody>\n",
       "</table>\n",
       "</div>"
      ],
      "text/plain": [
       "           date  new_cases  new_deaths  new_tests\n",
       "68   2020-03-08     1247.0        36.0        NaN\n",
       "69   2020-03-09     1492.0       133.0        NaN\n",
       "70   2020-03-10     1797.0        98.0        NaN\n",
       "72   2020-03-12     2313.0       196.0        NaN\n",
       "73   2020-03-13     2651.0       189.0        NaN\n",
       "74   2020-03-14     2547.0       252.0        NaN\n",
       "75   2020-03-15     3497.0       173.0        NaN\n",
       "76   2020-03-16     2823.0       370.0        NaN\n",
       "77   2020-03-17     4000.0       347.0        NaN\n",
       "78   2020-03-18     3526.0       347.0        NaN\n",
       "79   2020-03-19     4207.0       473.0        NaN\n",
       "80   2020-03-20     5322.0       429.0        NaN\n",
       "81   2020-03-21     5986.0       625.0        NaN\n",
       "82   2020-03-22     6557.0       795.0        NaN\n",
       "83   2020-03-23     5560.0       649.0        NaN\n",
       "84   2020-03-24     4789.0       601.0        NaN\n",
       "85   2020-03-25     5249.0       743.0        NaN\n",
       "86   2020-03-26     5210.0       685.0        NaN\n",
       "87   2020-03-27     6153.0       660.0        NaN\n",
       "88   2020-03-28     5959.0       971.0        NaN\n",
       "89   2020-03-29     5974.0       887.0        NaN\n",
       "90   2020-03-30     5217.0       758.0        NaN\n",
       "91   2020-03-31     4050.0       810.0        NaN\n",
       "92   2020-04-01     4053.0       839.0        NaN\n",
       "93   2020-04-02     4782.0       727.0        NaN\n",
       "94   2020-04-03     4668.0       760.0        NaN\n",
       "95   2020-04-04     4585.0       764.0        NaN\n",
       "96   2020-04-05     4805.0       681.0        NaN\n",
       "97   2020-04-06     4316.0       527.0        NaN\n",
       "98   2020-04-07     3599.0       636.0        NaN\n",
       "99   2020-04-08     3039.0       604.0        NaN\n",
       "100  2020-04-09     3836.0       540.0        NaN\n",
       "101  2020-04-10     4204.0       612.0        NaN\n",
       "102  2020-04-11     3951.0       570.0        NaN\n",
       "103  2020-04-12     4694.0       619.0        NaN\n",
       "104  2020-04-13     4092.0       431.0        NaN\n",
       "105  2020-04-14     3153.0       564.0        NaN\n",
       "106  2020-04-15     2972.0       604.0        NaN\n",
       "107  2020-04-16     2667.0       578.0        NaN\n",
       "108  2020-04-17     3786.0       525.0        NaN\n",
       "109  2020-04-18     3493.0       575.0        NaN\n",
       "110  2020-04-19     3491.0       480.0        NaN\n",
       "111  2020-04-20     3047.0       433.0     7841.0\n",
       "112  2020-04-21     2256.0       454.0    28095.0\n",
       "113  2020-04-22     2729.0       534.0    44248.0\n",
       "114  2020-04-23     3370.0       437.0    37083.0\n",
       "115  2020-04-24     2646.0       464.0    95273.0\n",
       "116  2020-04-25     3021.0       420.0    38676.0\n",
       "117  2020-04-26     2357.0       415.0    24113.0\n",
       "118  2020-04-27     2324.0       260.0    26678.0\n",
       "119  2020-04-28     1739.0       333.0    37554.0\n",
       "120  2020-04-29     2091.0       382.0    38589.0\n",
       "121  2020-04-30     2086.0       323.0    41441.0\n",
       "122  2020-05-01     1872.0       285.0    43732.0\n",
       "123  2020-05-02     1965.0       269.0    31231.0\n",
       "124  2020-05-03     1900.0       474.0    27047.0\n",
       "125  2020-05-04     1389.0       174.0    22999.0\n",
       "126  2020-05-05     1221.0       195.0    32211.0\n",
       "127  2020-05-06     1075.0       236.0    37771.0\n",
       "128  2020-05-07     1444.0       369.0    13665.0\n",
       "129  2020-05-08     1401.0       274.0    45428.0\n",
       "130  2020-05-09     1327.0       243.0    36091.0\n",
       "131  2020-05-10     1083.0       194.0    31384.0\n",
       "134  2020-05-13     1402.0       172.0    37049.0\n",
       "236  2020-08-23     1071.0         3.0    47463.0\n",
       "237  2020-08-24     1209.0         7.0    33358.0\n",
       "240  2020-08-27     1366.0        13.0    57640.0\n",
       "241  2020-08-28     1409.0         5.0    65135.0\n",
       "242  2020-08-29     1460.0         9.0    64294.0\n",
       "243  2020-08-30     1444.0         1.0    53541.0\n",
       "244  2020-08-31     1365.0         4.0    42583.0\n",
       "247  2020-09-03     1326.0         6.0        NaN"
      ]
     },
     "metadata": {},
     "output_type": "display_data"
    }
   ],
   "source": [
    "from IPython.display import display\n",
    "with pd.option_context('display.max_rows',100):\n",
    "    display(covid_df[covid_df.new_cases>1000])"
   ]
  },
  {
   "cell_type": "code",
   "execution_count": 11,
   "id": "b80d3a8d",
   "metadata": {},
   "outputs": [
    {
     "name": "stdout",
     "output_type": "stream",
     "text": [
      "           date  new_cases  new_deaths  new_tests\n",
      "111  2020-04-20     3047.0       433.0     7841.0\n",
      "112  2020-04-21     2256.0       454.0    28095.0\n",
      "114  2020-04-23     3370.0       437.0    37083.0\n",
      "116  2020-04-25     3021.0       420.0    38676.0\n",
      "117  2020-04-26     2357.0       415.0    24113.0\n",
      "118  2020-04-27     2324.0       260.0    26678.0\n",
      "124  2020-05-03     1900.0       474.0    27047.0\n",
      "128  2020-05-07     1444.0       369.0    13665.0\n"
     ]
    }
   ],
   "source": [
    "\n",
    "high_ratio=covid_df[covid_df.new_cases/covid_df.new_tests>positive_rate] \n",
    "print(high_ratio) "
   ]
  },
  {
   "cell_type": "code",
   "execution_count": 12,
   "id": "4e727afb",
   "metadata": {},
   "outputs": [
    {
     "name": "stdout",
     "output_type": "stream",
     "text": [
      "           date  new_cases  new_deaths  new_tests  positive_rate\n",
      "0    2019-12-31        0.0         0.0        NaN            NaN\n",
      "1    2020-01-01        0.0         0.0        NaN            NaN\n",
      "2    2020-01-02        0.0         0.0        NaN            NaN\n",
      "3    2020-01-03        0.0         0.0        NaN            NaN\n",
      "4    2020-01-04        0.0         0.0        NaN            NaN\n",
      "..          ...        ...         ...        ...            ...\n",
      "243  2020-08-30     1444.0         1.0    53541.0       0.026970\n",
      "244  2020-08-31     1365.0         4.0    42583.0       0.032055\n",
      "245  2020-09-01      996.0         6.0    54395.0       0.018311\n",
      "246  2020-09-02      975.0         8.0        NaN            NaN\n",
      "247  2020-09-03     1326.0         6.0        NaN            NaN\n",
      "\n",
      "[248 rows x 5 columns]\n"
     ]
    }
   ],
   "source": [
    "covid_df['positive_rate']=covid_df.new_cases/covid_df.new_tests\n",
    "print(covid_df) "
   ]
  },
  {
   "cell_type": "code",
   "execution_count": 21,
   "id": "e4dab072",
   "metadata": {},
   "outputs": [
    {
     "name": "stdout",
     "output_type": "stream",
     "text": [
      "           date  new_cases  new_deaths  new_tests\n",
      "0    2019-12-31        0.0         0.0        NaN\n",
      "1    2020-01-01        0.0         0.0        NaN\n",
      "2    2020-01-02        0.0         0.0        NaN\n",
      "3    2020-01-03        0.0         0.0        NaN\n",
      "4    2020-01-04        0.0         0.0        NaN\n",
      "..          ...        ...         ...        ...\n",
      "243  2020-08-30     1444.0         1.0    53541.0\n",
      "244  2020-08-31     1365.0         4.0    42583.0\n",
      "245  2020-09-01      996.0         6.0    54395.0\n",
      "246  2020-09-02      975.0         8.0        NaN\n",
      "247  2020-09-03     1326.0         6.0        NaN\n",
      "\n",
      "[248 rows x 4 columns]\n"
     ]
    }
   ],
   "source": [
    "\n",
    "covid_df.drop(columns=['positive_rate'],inplace=True)\n",
    "print(covid_df)"
   ]
  },
  {
   "cell_type": "code",
   "execution_count": 22,
   "id": "02702c34",
   "metadata": {},
   "outputs": [
    {
     "data": {
      "text/html": [
       "<div>\n",
       "<style scoped>\n",
       "    .dataframe tbody tr th:only-of-type {\n",
       "        vertical-align: middle;\n",
       "    }\n",
       "\n",
       "    .dataframe tbody tr th {\n",
       "        vertical-align: top;\n",
       "    }\n",
       "\n",
       "    .dataframe thead th {\n",
       "        text-align: right;\n",
       "    }\n",
       "</style>\n",
       "<table border=\"1\" class=\"dataframe\">\n",
       "  <thead>\n",
       "    <tr style=\"text-align: right;\">\n",
       "      <th></th>\n",
       "      <th>date</th>\n",
       "      <th>new_cases</th>\n",
       "      <th>new_deaths</th>\n",
       "      <th>new_tests</th>\n",
       "    </tr>\n",
       "  </thead>\n",
       "  <tbody>\n",
       "    <tr>\n",
       "      <th>172</th>\n",
       "      <td>2020-06-20</td>\n",
       "      <td>-148.0</td>\n",
       "      <td>47.0</td>\n",
       "      <td>29875.0</td>\n",
       "    </tr>\n",
       "    <tr>\n",
       "      <th>0</th>\n",
       "      <td>2019-12-31</td>\n",
       "      <td>0.0</td>\n",
       "      <td>0.0</td>\n",
       "      <td>NaN</td>\n",
       "    </tr>\n",
       "    <tr>\n",
       "      <th>29</th>\n",
       "      <td>2020-01-29</td>\n",
       "      <td>0.0</td>\n",
       "      <td>0.0</td>\n",
       "      <td>NaN</td>\n",
       "    </tr>\n",
       "    <tr>\n",
       "      <th>30</th>\n",
       "      <td>2020-01-30</td>\n",
       "      <td>0.0</td>\n",
       "      <td>0.0</td>\n",
       "      <td>NaN</td>\n",
       "    </tr>\n",
       "    <tr>\n",
       "      <th>32</th>\n",
       "      <td>2020-02-01</td>\n",
       "      <td>0.0</td>\n",
       "      <td>0.0</td>\n",
       "      <td>NaN</td>\n",
       "    </tr>\n",
       "    <tr>\n",
       "      <th>...</th>\n",
       "      <td>...</td>\n",
       "      <td>...</td>\n",
       "      <td>...</td>\n",
       "      <td>...</td>\n",
       "    </tr>\n",
       "    <tr>\n",
       "      <th>88</th>\n",
       "      <td>2020-03-28</td>\n",
       "      <td>5959.0</td>\n",
       "      <td>971.0</td>\n",
       "      <td>NaN</td>\n",
       "    </tr>\n",
       "    <tr>\n",
       "      <th>89</th>\n",
       "      <td>2020-03-29</td>\n",
       "      <td>5974.0</td>\n",
       "      <td>887.0</td>\n",
       "      <td>NaN</td>\n",
       "    </tr>\n",
       "    <tr>\n",
       "      <th>81</th>\n",
       "      <td>2020-03-21</td>\n",
       "      <td>5986.0</td>\n",
       "      <td>625.0</td>\n",
       "      <td>NaN</td>\n",
       "    </tr>\n",
       "    <tr>\n",
       "      <th>87</th>\n",
       "      <td>2020-03-27</td>\n",
       "      <td>6153.0</td>\n",
       "      <td>660.0</td>\n",
       "      <td>NaN</td>\n",
       "    </tr>\n",
       "    <tr>\n",
       "      <th>82</th>\n",
       "      <td>2020-03-22</td>\n",
       "      <td>6557.0</td>\n",
       "      <td>795.0</td>\n",
       "      <td>NaN</td>\n",
       "    </tr>\n",
       "  </tbody>\n",
       "</table>\n",
       "<p>248 rows × 4 columns</p>\n",
       "</div>"
      ],
      "text/plain": [
       "           date  new_cases  new_deaths  new_tests\n",
       "172  2020-06-20     -148.0        47.0    29875.0\n",
       "0    2019-12-31        0.0         0.0        NaN\n",
       "29   2020-01-29        0.0         0.0        NaN\n",
       "30   2020-01-30        0.0         0.0        NaN\n",
       "32   2020-02-01        0.0         0.0        NaN\n",
       "..          ...        ...         ...        ...\n",
       "88   2020-03-28     5959.0       971.0        NaN\n",
       "89   2020-03-29     5974.0       887.0        NaN\n",
       "81   2020-03-21     5986.0       625.0        NaN\n",
       "87   2020-03-27     6153.0       660.0        NaN\n",
       "82   2020-03-22     6557.0       795.0        NaN\n",
       "\n",
       "[248 rows x 4 columns]"
      ]
     },
     "execution_count": 22,
     "metadata": {},
     "output_type": "execute_result"
    }
   ],
   "source": [
    "\n",
    "covid_df.sort_values('new_cases',ascending=True) \n",
    "\n"
   ]
  },
  {
   "cell_type": "code",
   "execution_count": 23,
   "id": "41bba49a",
   "metadata": {},
   "outputs": [
    {
     "data": {
      "text/plain": [
       "date          2020-03-27\n",
       "new_cases         6153.0\n",
       "new_deaths         660.0\n",
       "new_tests            NaN\n",
       "Name: 87, dtype: object"
      ]
     },
     "execution_count": 23,
     "metadata": {},
     "output_type": "execute_result"
    }
   ],
   "source": [
    "covid_df.iloc[(87)]"
   ]
  },
  {
   "cell_type": "code",
   "execution_count": 25,
   "id": "f874d4c9",
   "metadata": {},
   "outputs": [
    {
     "data": {
      "text/plain": [
       "<matplotlib.collections.PathCollection at 0x13f093a7880>"
      ]
     },
     "execution_count": 25,
     "metadata": {},
     "output_type": "execute_result"
    },
    {
     "data": {
      "image/png": "[encoded data removed]",
      "text/plain": [
       "<Figure size 432x288 with 1 Axes>"
      ]
     },
     "metadata": {
      "needs_background": "light"
     },
     "output_type": "display_data"
    }
   ],
   "source": [
    "plt.scatter(covid_df[\"new_cases\"],covid_df[\"new_tests\"])"
   ]
  },
  {
   "cell_type": "code",
   "execution_count": 26,
   "id": "a965a10d",
   "metadata": {},
   "outputs": [
    {
     "data": {
      "text/plain": [
       "<matplotlib.collections.PathCollection at 0x13f09d3d2a0>"
      ]
     },
     "execution_count": 26,
     "metadata": {},
     "output_type": "execute_result"
    },
    {
     "data": {
      "image/png": "[encoded data removed]",
      "text/plain": [
       "<Figure size 432x288 with 1 Axes>"
      ]
     },
     "metadata": {
      "needs_background": "light"
     },
     "output_type": "display_data"
    }
   ],
   "source": [
    "plt.scatter(covid_df[\"new_cases\"],covid_df[\"new_deaths\"])"
   ]
  },
  {
   "cell_type": "code",
   "execution_count": 30,
   "id": "563a0a8e",
   "metadata": {},
   "outputs": [
    {
     "data": {
      "text/plain": [
       "(array([145.,  34.,  17.,   9.,  11.,   8.,   8.,   7.,   4.,   5.]),\n",
       " array([-148. ,  522.5, 1193. , 1863.5, 2534. , 3204.5, 3875. , 4545.5,\n",
       "        5216. , 5886.5, 6557. ]),\n",
       " <BarContainer object of 10 artists>)"
      ]
     },
     "execution_count": 30,
     "metadata": {},
     "output_type": "execute_result"
    },
    {
     "data": {
      "image/png": "[encoded data removed]",
      "text/plain": [
       "<Figure size 432x288 with 1 Axes>"
      ]
     },
     "metadata": {
      "needs_background": "light"
     },
     "output_type": "display_data"
    }
   ],
   "source": [
    "plt.hist(covid_df[\"new_cases\"])"
   ]
  },
  {
   "cell_type": "code",
   "execution_count": 31,
   "id": "49aa173d",
   "metadata": {},
   "outputs": [
    {
     "data": {
      "text/plain": [
       "(array([156.,  27.,  16.,   7.,  10.,   9.,  11.,   7.,   3.,   2.]),\n",
       " array([-31. ,  69.2, 169.4, 269.6, 369.8, 470. , 570.2, 670.4, 770.6,\n",
       "        870.8, 971. ]),\n",
       " <BarContainer object of 10 artists>)"
      ]
     },
     "execution_count": 31,
     "metadata": {},
     "output_type": "execute_result"
    },
    {
     "data": {
      "image/png": "[encoded data removed]",
      "text/plain": [
       "<Figure size 432x288 with 1 Axes>"
      ]
     },
     "metadata": {
      "needs_background": "light"
     },
     "output_type": "display_data"
    }
   ],
   "source": [
    "plt.hist(covid_df[\"new_deaths\"])"
   ]
  },
  {
   "cell_type": "code",
   "execution_count": 37,
   "id": "2c9ae416",
   "metadata": {},
   "outputs": [
    {
     "data": {
      "text/plain": [
       "(array([10., 24., 59., 26.,  9.,  4.,  2.,  0.,  0.,  1.]),\n",
       " array([ 7841. , 16584.2, 25327.4, 34070.6, 42813.8, 51557. , 60300.2,\n",
       "        69043.4, 77786.6, 86529.8, 95273. ]),\n",
       " <BarContainer object of 10 artists>)"
      ]
     },
     "execution_count": 37,
     "metadata": {},
     "output_type": "execute_result"
    },
    {
     "data": {
      "image/png": "[encoded data removed]",
      "text/plain": [
       "<Figure size 432x288 with 1 Axes>"
      ]
     },
     "metadata": {
      "needs_background": "light"
     },
     "output_type": "display_data"
    }
   ],
   "source": [
    "plt.hist(covid_df[\"new_tests\"])"
   ]
  },
  {
   "cell_type": "code",
   "execution_count": 38,
   "id": "b6d80529",
   "metadata": {},
   "outputs": [
    {
     "data": {
      "text/plain": [
       "{'whiskers': [<matplotlib.lines.Line2D at 0x13f0f0733a0>,\n",
       "  <matplotlib.lines.Line2D at 0x13f0f073670>],\n",
       " 'caps': [<matplotlib.lines.Line2D at 0x13f0ed66d70>,\n",
       "  <matplotlib.lines.Line2D at 0x13f0f05b8b0>],\n",
       " 'boxes': [<matplotlib.lines.Line2D at 0x13f0f072fb0>],\n",
       " 'medians': [<matplotlib.lines.Line2D at 0x13f0f05b0d0>],\n",
       " 'fliers': [<matplotlib.lines.Line2D at 0x13f0f05b5b0>],\n",
       " 'means': []}"
      ]
     },
     "execution_count": 38,
     "metadata": {},
     "output_type": "execute_result"
    },
    {
     "data": {
      "image/png": "[encoded data removed]",
      "text/plain": [
       "<Figure size 432x288 with 1 Axes>"
      ]
     },
     "metadata": {
      "needs_background": "light"
     },
     "output_type": "display_data"
    }
   ],
   "source": [
    "plt.boxplot(covid_df[\"new_deaths\"])"
   ]
  },
  {
   "cell_type": "code",
   "execution_count": 40,
   "id": "19073b13",
   "metadata": {},
   "outputs": [
    {
     "data": {
      "text/plain": [
       "{'whiskers': [<matplotlib.lines.Line2D at 0x13f0f11ab90>,\n",
       "  <matplotlib.lines.Line2D at 0x13f0f11ae60>],\n",
       " 'caps': [<matplotlib.lines.Line2D at 0x13f0f11b130>,\n",
       "  <matplotlib.lines.Line2D at 0x13f0f11b400>],\n",
       " 'boxes': [<matplotlib.lines.Line2D at 0x13f0f11a9e0>],\n",
       " 'medians': [<matplotlib.lines.Line2D at 0x13f0f11b6d0>],\n",
       " 'fliers': [<matplotlib.lines.Line2D at 0x13f0f11b9a0>],\n",
       " 'means': []}"
      ]
     },
     "execution_count": 40,
     "metadata": {},
     "output_type": "execute_result"
    },
    {
     "data": {
      "image/png": "[encoded data removed]",
      "text/plain": [
       "<Figure size 432x288 with 1 Axes>"
      ]
     },
     "metadata": {
      "needs_background": "light"
     },
     "output_type": "display_data"
    }
   ],
   "source": [
    "plt.boxplot(covid_df[\"new_cases\"])"
   ]
  },
  {
   "cell_type": "code",
   "execution_count": 44,
   "id": "8953dfed",
   "metadata": {},
   "outputs": [
    {
     "data": {
      "text/plain": [
       "0"
      ]
     },
     "execution_count": 44,
     "metadata": {},
     "output_type": "execute_result"
    }
   ],
   "source": [
    "covid_df[\"new_tests\"].isnull().sum()"
   ]
  },
  {
   "cell_type": "code",
   "execution_count": 42,
   "id": "6cde192d",
   "metadata": {},
   "outputs": [
    {
     "data": {
      "text/plain": [
       "7841.0"
      ]
     },
     "execution_count": 42,
     "metadata": {},
     "output_type": "execute_result"
    }
   ],
   "source": [
    "covid_df[\"new_tests\"].min()"
   ]
  },
  {
   "cell_type": "code",
   "execution_count": 43,
   "id": "00479733",
   "metadata": {},
   "outputs": [],
   "source": [
    "covid_df.fillna(value=covid_df[\"new_tests\"].min(),inplace=True)"
   ]
  },
  {
   "cell_type": "code",
   "execution_count": 47,
   "id": "789b7bc7",
   "metadata": {},
   "outputs": [],
   "source": [
    "from sklearn.linear_model import LinearRegression\n",
    "from sklearn.model_selection import  train_test_split"
   ]
  },
  {
   "cell_type": "code",
   "execution_count": 46,
   "id": "99fc8eed",
   "metadata": {},
   "outputs": [],
   "source": [
    "model=LinearRegression()\n"
   ]
  },
  {
   "cell_type": "code",
   "execution_count": 56,
   "id": "adee64a9",
   "metadata": {},
   "outputs": [],
   "source": [
    "# y=covid_df[\"new_deaths\"]\n",
    "# covid_df.drop(columns=['new_deaths'],inplace=True)"
   ]
  },
  {
   "cell_type": "code",
   "execution_count": 57,
   "id": "c80a6612",
   "metadata": {},
   "outputs": [],
   "source": [
    "covid_df.drop(columns=['date'],inplace=True)"
   ]
  },
  {
   "cell_type": "code",
   "execution_count": 58,
   "id": "2673db6d",
   "metadata": {},
   "outputs": [],
   "source": [
    "X_train,X_test,y_train,y_test=train_test_split(covid_df,y)"
   ]
  },
  {
   "cell_type": "code",
   "execution_count": 60,
   "id": "f687a44b",
   "metadata": {},
   "outputs": [
    {
     "data": {
      "text/plain": [
       "(     new_cases  new_tests\n",
       " 4          0.0     7841.0\n",
       " 10         0.0     7841.0\n",
       " 46         0.0     7841.0\n",
       " 74      2547.0     7841.0\n",
       " 128     1444.0    13665.0\n",
       " ..         ...        ...\n",
       " 55        53.0     7841.0\n",
       " 73      2651.0     7841.0\n",
       " 127     1075.0    37771.0\n",
       " 196      169.0    24222.0\n",
       " 52         0.0     7841.0\n",
       " \n",
       " [186 rows x 2 columns],\n",
       "      new_cases  new_tests\n",
       " 221      552.0    26631.0\n",
       " 136      992.0    39027.0\n",
       " 216      238.0    13467.0\n",
       " 14         0.0     7841.0\n",
       " 37         0.0     7841.0\n",
       " ..         ...        ...\n",
       " 175      221.0    23225.0\n",
       " 61       240.0     7841.0\n",
       " 28         0.0     7841.0\n",
       " 103     4694.0     7841.0\n",
       " 227      522.0    24868.0\n",
       " \n",
       " [62 rows x 2 columns])"
      ]
     },
     "execution_count": 60,
     "metadata": {},
     "output_type": "execute_result"
    }
   ],
   "source": [
    "X_train,X_test"
   ]
  },
  {
   "cell_type": "code",
   "execution_count": 61,
   "id": "9595565e",
   "metadata": {},
   "outputs": [
    {
     "data": {
      "text/plain": [
       "LinearRegression()"
      ]
     },
     "execution_count": 61,
     "metadata": {},
     "output_type": "execute_result"
    }
   ],
   "source": [
    "model.fit(X_train,y_train)"
   ]
  },
  {
   "cell_type": "code",
   "execution_count": 66,
   "id": "cb26a46c",
   "metadata": {},
   "outputs": [],
   "source": [
    "pre=model.predict(X_test)"
   ]
  },
  {
   "cell_type": "code",
   "execution_count": 67,
   "id": "cba6f745",
   "metadata": {},
   "outputs": [],
   "source": [
    "sc=model.score(X_test,y_test)"
   ]
  },
  {
   "cell_type": "code",
   "execution_count": 68,
   "id": "55b81700",
   "metadata": {},
   "outputs": [
    {
     "data": {
      "text/plain": [
       "0.8468540200630854"
      ]
     },
     "execution_count": 68,
     "metadata": {},
     "output_type": "execute_result"
    }
   ],
   "source": [
    "sc"
   ]
  },
  {
   "cell_type": "code",
   "execution_count": null,
   "id": "737a258b",
   "metadata": {},
   "outputs": [],
   "source": []
  }
 ],
 "metadata": {
  "kernelspec": {
   "display_name": "Python 3 (ipykernel)",
   "language": "python",
   "name": "python3"
  },
  "language_info": {
   "codemirror_mode": {
    "name": "ipython",
    "version": 3
   },
   "file_extension": ".py",
   "mimetype": "text/x-python",
   "name": "python",
   "nbconvert_exporter": "python",
   "pygments_lexer": "ipython3",
   "version": "3.10.4"
  }
 },
 "nbformat": 4,
 "nbformat_minor": 5
}
