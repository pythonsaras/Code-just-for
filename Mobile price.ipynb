{
 "cells": [
  {
   "cell_type": "code",
   "execution_count": 1,
   "id": "aa8a0c19",
   "metadata": {},
   "outputs": [],
   "source": [
    "import pandas as pd \n",
    "import numpy as np"
   ]
  },
  {
   "cell_type": "code",
   "execution_count": 2,
   "id": "c839774a",
   "metadata": {},
   "outputs": [],
   "source": [
    "df=pd.read_csv(\"train.csv\")"
   ]
  },
  {
   "cell_type": "code",
   "execution_count": 3,
   "id": "10c7114c",
   "metadata": {},
   "outputs": [
    {
     "data": {
      "text/html": [
       "<div>\n",
       "<style scoped>\n",
       "    .dataframe tbody tr th:only-of-type {\n",
       "        vertical-align: middle;\n",
       "    }\n",
       "\n",
       "    .dataframe tbody tr th {\n",
       "        vertical-align: top;\n",
       "    }\n",
       "\n",
       "    .dataframe thead th {\n",
       "        text-align: right;\n",
       "    }\n",
       "</style>\n",
       "<table border=\"1\" class=\"dataframe\">\n",
       "  <thead>\n",
       "    <tr style=\"text-align: right;\">\n",
       "      <th></th>\n",
       "      <th>battery_power</th>\n",
       "      <th>blue</th>\n",
       "      <th>clock_speed</th>\n",
       "      <th>dual_sim</th>\n",
       "      <th>fc</th>\n",
       "      <th>four_g</th>\n",
       "      <th>int_memory</th>\n",
       "      <th>m_dep</th>\n",
       "      <th>mobile_wt</th>\n",
       "      <th>n_cores</th>\n",
       "      <th>...</th>\n",
       "      <th>px_height</th>\n",
       "      <th>px_width</th>\n",
       "      <th>ram</th>\n",
       "      <th>sc_h</th>\n",
       "      <th>sc_w</th>\n",
       "      <th>talk_time</th>\n",
       "      <th>three_g</th>\n",
       "      <th>touch_screen</th>\n",
       "      <th>wifi</th>\n",
       "      <th>price_range</th>\n",
       "    </tr>\n",
       "  </thead>\n",
       "  <tbody>\n",
       "    <tr>\n",
       "      <th>0</th>\n",
       "      <td>842</td>\n",
       "      <td>0</td>\n",
       "      <td>2.2</td>\n",
       "      <td>0</td>\n",
       "      <td>1</td>\n",
       "      <td>0</td>\n",
       "      <td>7</td>\n",
       "      <td>0.6</td>\n",
       "      <td>188</td>\n",
       "      <td>2</td>\n",
       "      <td>...</td>\n",
       "      <td>20</td>\n",
       "      <td>756</td>\n",
       "      <td>2549</td>\n",
       "      <td>9</td>\n",
       "      <td>7</td>\n",
       "      <td>19</td>\n",
       "      <td>0</td>\n",
       "      <td>0</td>\n",
       "      <td>1</td>\n",
       "      <td>1</td>\n",
       "    </tr>\n",
       "    <tr>\n",
       "      <th>1</th>\n",
       "      <td>1021</td>\n",
       "      <td>1</td>\n",
       "      <td>0.5</td>\n",
       "      <td>1</td>\n",
       "      <td>0</td>\n",
       "      <td>1</td>\n",
       "      <td>53</td>\n",
       "      <td>0.7</td>\n",
       "      <td>136</td>\n",
       "      <td>3</td>\n",
       "      <td>...</td>\n",
       "      <td>905</td>\n",
       "      <td>1988</td>\n",
       "      <td>2631</td>\n",
       "      <td>17</td>\n",
       "      <td>3</td>\n",
       "      <td>7</td>\n",
       "      <td>1</td>\n",
       "      <td>1</td>\n",
       "      <td>0</td>\n",
       "      <td>2</td>\n",
       "    </tr>\n",
       "    <tr>\n",
       "      <th>2</th>\n",
       "      <td>563</td>\n",
       "      <td>1</td>\n",
       "      <td>0.5</td>\n",
       "      <td>1</td>\n",
       "      <td>2</td>\n",
       "      <td>1</td>\n",
       "      <td>41</td>\n",
       "      <td>0.9</td>\n",
       "      <td>145</td>\n",
       "      <td>5</td>\n",
       "      <td>...</td>\n",
       "      <td>1263</td>\n",
       "      <td>1716</td>\n",
       "      <td>2603</td>\n",
       "      <td>11</td>\n",
       "      <td>2</td>\n",
       "      <td>9</td>\n",
       "      <td>1</td>\n",
       "      <td>1</td>\n",
       "      <td>0</td>\n",
       "      <td>2</td>\n",
       "    </tr>\n",
       "    <tr>\n",
       "      <th>3</th>\n",
       "      <td>615</td>\n",
       "      <td>1</td>\n",
       "      <td>2.5</td>\n",
       "      <td>0</td>\n",
       "      <td>0</td>\n",
       "      <td>0</td>\n",
       "      <td>10</td>\n",
       "      <td>0.8</td>\n",
       "      <td>131</td>\n",
       "      <td>6</td>\n",
       "      <td>...</td>\n",
       "      <td>1216</td>\n",
       "      <td>1786</td>\n",
       "      <td>2769</td>\n",
       "      <td>16</td>\n",
       "      <td>8</td>\n",
       "      <td>11</td>\n",
       "      <td>1</td>\n",
       "      <td>0</td>\n",
       "      <td>0</td>\n",
       "      <td>2</td>\n",
       "    </tr>\n",
       "    <tr>\n",
       "      <th>4</th>\n",
       "      <td>1821</td>\n",
       "      <td>1</td>\n",
       "      <td>1.2</td>\n",
       "      <td>0</td>\n",
       "      <td>13</td>\n",
       "      <td>1</td>\n",
       "      <td>44</td>\n",
       "      <td>0.6</td>\n",
       "      <td>141</td>\n",
       "      <td>2</td>\n",
       "      <td>...</td>\n",
       "      <td>1208</td>\n",
       "      <td>1212</td>\n",
       "      <td>1411</td>\n",
       "      <td>8</td>\n",
       "      <td>2</td>\n",
       "      <td>15</td>\n",
       "      <td>1</td>\n",
       "      <td>1</td>\n",
       "      <td>0</td>\n",
       "      <td>1</td>\n",
       "    </tr>\n",
       "    <tr>\n",
       "      <th>...</th>\n",
       "      <td>...</td>\n",
       "      <td>...</td>\n",
       "      <td>...</td>\n",
       "      <td>...</td>\n",
       "      <td>...</td>\n",
       "      <td>...</td>\n",
       "      <td>...</td>\n",
       "      <td>...</td>\n",
       "      <td>...</td>\n",
       "      <td>...</td>\n",
       "      <td>...</td>\n",
       "      <td>...</td>\n",
       "      <td>...</td>\n",
       "      <td>...</td>\n",
       "      <td>...</td>\n",
       "      <td>...</td>\n",
       "      <td>...</td>\n",
       "      <td>...</td>\n",
       "      <td>...</td>\n",
       "      <td>...</td>\n",
       "      <td>...</td>\n",
       "    </tr>\n",
       "    <tr>\n",
       "      <th>1995</th>\n",
       "      <td>794</td>\n",
       "      <td>1</td>\n",
       "      <td>0.5</td>\n",
       "      <td>1</td>\n",
       "      <td>0</td>\n",
       "      <td>1</td>\n",
       "      <td>2</td>\n",
       "      <td>0.8</td>\n",
       "      <td>106</td>\n",
       "      <td>6</td>\n",
       "      <td>...</td>\n",
       "      <td>1222</td>\n",
       "      <td>1890</td>\n",
       "      <td>668</td>\n",
       "      <td>13</td>\n",
       "      <td>4</td>\n",
       "      <td>19</td>\n",
       "      <td>1</td>\n",
       "      <td>1</td>\n",
       "      <td>0</td>\n",
       "      <td>0</td>\n",
       "    </tr>\n",
       "    <tr>\n",
       "      <th>1996</th>\n",
       "      <td>1965</td>\n",
       "      <td>1</td>\n",
       "      <td>2.6</td>\n",
       "      <td>1</td>\n",
       "      <td>0</td>\n",
       "      <td>0</td>\n",
       "      <td>39</td>\n",
       "      <td>0.2</td>\n",
       "      <td>187</td>\n",
       "      <td>4</td>\n",
       "      <td>...</td>\n",
       "      <td>915</td>\n",
       "      <td>1965</td>\n",
       "      <td>2032</td>\n",
       "      <td>11</td>\n",
       "      <td>10</td>\n",
       "      <td>16</td>\n",
       "      <td>1</td>\n",
       "      <td>1</td>\n",
       "      <td>1</td>\n",
       "      <td>2</td>\n",
       "    </tr>\n",
       "    <tr>\n",
       "      <th>1997</th>\n",
       "      <td>1911</td>\n",
       "      <td>0</td>\n",
       "      <td>0.9</td>\n",
       "      <td>1</td>\n",
       "      <td>1</td>\n",
       "      <td>1</td>\n",
       "      <td>36</td>\n",
       "      <td>0.7</td>\n",
       "      <td>108</td>\n",
       "      <td>8</td>\n",
       "      <td>...</td>\n",
       "      <td>868</td>\n",
       "      <td>1632</td>\n",
       "      <td>3057</td>\n",
       "      <td>9</td>\n",
       "      <td>1</td>\n",
       "      <td>5</td>\n",
       "      <td>1</td>\n",
       "      <td>1</td>\n",
       "      <td>0</td>\n",
       "      <td>3</td>\n",
       "    </tr>\n",
       "    <tr>\n",
       "      <th>1998</th>\n",
       "      <td>1512</td>\n",
       "      <td>0</td>\n",
       "      <td>0.9</td>\n",
       "      <td>0</td>\n",
       "      <td>4</td>\n",
       "      <td>1</td>\n",
       "      <td>46</td>\n",
       "      <td>0.1</td>\n",
       "      <td>145</td>\n",
       "      <td>5</td>\n",
       "      <td>...</td>\n",
       "      <td>336</td>\n",
       "      <td>670</td>\n",
       "      <td>869</td>\n",
       "      <td>18</td>\n",
       "      <td>10</td>\n",
       "      <td>19</td>\n",
       "      <td>1</td>\n",
       "      <td>1</td>\n",
       "      <td>1</td>\n",
       "      <td>0</td>\n",
       "    </tr>\n",
       "    <tr>\n",
       "      <th>1999</th>\n",
       "      <td>510</td>\n",
       "      <td>1</td>\n",
       "      <td>2.0</td>\n",
       "      <td>1</td>\n",
       "      <td>5</td>\n",
       "      <td>1</td>\n",
       "      <td>45</td>\n",
       "      <td>0.9</td>\n",
       "      <td>168</td>\n",
       "      <td>6</td>\n",
       "      <td>...</td>\n",
       "      <td>483</td>\n",
       "      <td>754</td>\n",
       "      <td>3919</td>\n",
       "      <td>19</td>\n",
       "      <td>4</td>\n",
       "      <td>2</td>\n",
       "      <td>1</td>\n",
       "      <td>1</td>\n",
       "      <td>1</td>\n",
       "      <td>3</td>\n",
       "    </tr>\n",
       "  </tbody>\n",
       "</table>\n",
       "<p>2000 rows × 21 columns</p>\n",
       "</div>"
      ],
      "text/plain": [
       "      battery_power  blue  clock_speed  dual_sim  fc  four_g  int_memory  \\\n",
       "0               842     0          2.2         0   1       0           7   \n",
       "1              1021     1          0.5         1   0       1          53   \n",
       "2               563     1          0.5         1   2       1          41   \n",
       "3               615     1          2.5         0   0       0          10   \n",
       "4              1821     1          1.2         0  13       1          44   \n",
       "...             ...   ...          ...       ...  ..     ...         ...   \n",
       "1995            794     1          0.5         1   0       1           2   \n",
       "1996           1965     1          2.6         1   0       0          39   \n",
       "1997           1911     0          0.9         1   1       1          36   \n",
       "1998           1512     0          0.9         0   4       1          46   \n",
       "1999            510     1          2.0         1   5       1          45   \n",
       "\n",
       "      m_dep  mobile_wt  n_cores  ...  px_height  px_width   ram  sc_h  sc_w  \\\n",
       "0       0.6        188        2  ...         20       756  2549     9     7   \n",
       "1       0.7        136        3  ...        905      1988  2631    17     3   \n",
       "2       0.9        145        5  ...       1263      1716  2603    11     2   \n",
       "3       0.8        131        6  ...       1216      1786  2769    16     8   \n",
       "4       0.6        141        2  ...       1208      1212  1411     8     2   \n",
       "...     ...        ...      ...  ...        ...       ...   ...   ...   ...   \n",
       "1995    0.8        106        6  ...       1222      1890   668    13     4   \n",
       "1996    0.2        187        4  ...        915      1965  2032    11    10   \n",
       "1997    0.7        108        8  ...        868      1632  3057     9     1   \n",
       "1998    0.1        145        5  ...        336       670   869    18    10   \n",
       "1999    0.9        168        6  ...        483       754  3919    19     4   \n",
       "\n",
       "      talk_time  three_g  touch_screen  wifi  price_range  \n",
       "0            19        0             0     1            1  \n",
       "1             7        1             1     0            2  \n",
       "2             9        1             1     0            2  \n",
       "3            11        1             0     0            2  \n",
       "4            15        1             1     0            1  \n",
       "...         ...      ...           ...   ...          ...  \n",
       "1995         19        1             1     0            0  \n",
       "1996         16        1             1     1            2  \n",
       "1997          5        1             1     0            3  \n",
       "1998         19        1             1     1            0  \n",
       "1999          2        1             1     1            3  \n",
       "\n",
       "[2000 rows x 21 columns]"
      ]
     },
     "execution_count": 3,
     "metadata": {},
     "output_type": "execute_result"
    }
   ],
   "source": [
    "df"
   ]
  },
  {
   "cell_type": "code",
   "execution_count": 8,
   "id": "0bda5e67",
   "metadata": {},
   "outputs": [
    {
     "data": {
      "text/plain": [
       "0       1\n",
       "1       2\n",
       "2       2\n",
       "3       2\n",
       "4       1\n",
       "       ..\n",
       "1995    0\n",
       "1996    2\n",
       "1997    3\n",
       "1998    0\n",
       "1999    3\n",
       "Name: price_range, Length: 2000, dtype: int64"
      ]
     },
     "execution_count": 8,
     "metadata": {},
     "output_type": "execute_result"
    }
   ],
   "source": [
    "df[\"price_range\"]"
   ]
  },
  {
   "cell_type": "code",
   "execution_count": 4,
   "id": "931c4f92",
   "metadata": {},
   "outputs": [
    {
     "data": {
      "text/plain": [
       "0"
      ]
     },
     "execution_count": 4,
     "metadata": {},
     "output_type": "execute_result"
    }
   ],
   "source": [
    "df.isnull().sum().sum()"
   ]
  },
  {
   "cell_type": "code",
   "execution_count": 11,
   "id": "f11ee623",
   "metadata": {},
   "outputs": [],
   "source": [
    "from matplotlib import pyplot as plt"
   ]
  },
  {
   "cell_type": "code",
   "execution_count": 14,
   "id": "170f66e5",
   "metadata": {},
   "outputs": [
    {
     "data": {
      "text/html": [
       "<div>\n",
       "<style scoped>\n",
       "    .dataframe tbody tr th:only-of-type {\n",
       "        vertical-align: middle;\n",
       "    }\n",
       "\n",
       "    .dataframe tbody tr th {\n",
       "        vertical-align: top;\n",
       "    }\n",
       "\n",
       "    .dataframe thead th {\n",
       "        text-align: right;\n",
       "    }\n",
       "</style>\n",
       "<table border=\"1\" class=\"dataframe\">\n",
       "  <thead>\n",
       "    <tr style=\"text-align: right;\">\n",
       "      <th></th>\n",
       "      <th>battery_power</th>\n",
       "      <th>blue</th>\n",
       "      <th>clock_speed</th>\n",
       "      <th>dual_sim</th>\n",
       "      <th>fc</th>\n",
       "      <th>four_g</th>\n",
       "      <th>int_memory</th>\n",
       "      <th>m_dep</th>\n",
       "      <th>mobile_wt</th>\n",
       "      <th>n_cores</th>\n",
       "      <th>...</th>\n",
       "      <th>px_height</th>\n",
       "      <th>px_width</th>\n",
       "      <th>ram</th>\n",
       "      <th>sc_h</th>\n",
       "      <th>sc_w</th>\n",
       "      <th>talk_time</th>\n",
       "      <th>three_g</th>\n",
       "      <th>touch_screen</th>\n",
       "      <th>wifi</th>\n",
       "      <th>price_range</th>\n",
       "    </tr>\n",
       "  </thead>\n",
       "  <tbody>\n",
       "    <tr>\n",
       "      <th>0</th>\n",
       "      <td>842</td>\n",
       "      <td>0</td>\n",
       "      <td>2.2</td>\n",
       "      <td>0</td>\n",
       "      <td>1</td>\n",
       "      <td>0</td>\n",
       "      <td>7</td>\n",
       "      <td>0.6</td>\n",
       "      <td>188</td>\n",
       "      <td>2</td>\n",
       "      <td>...</td>\n",
       "      <td>20</td>\n",
       "      <td>756</td>\n",
       "      <td>2549</td>\n",
       "      <td>9</td>\n",
       "      <td>7</td>\n",
       "      <td>19</td>\n",
       "      <td>0</td>\n",
       "      <td>0</td>\n",
       "      <td>1</td>\n",
       "      <td>1</td>\n",
       "    </tr>\n",
       "  </tbody>\n",
       "</table>\n",
       "<p>1 rows × 21 columns</p>\n",
       "</div>"
      ],
      "text/plain": [
       "   battery_power  blue  clock_speed  dual_sim  fc  four_g  int_memory  m_dep  \\\n",
       "0            842     0          2.2         0   1       0           7    0.6   \n",
       "\n",
       "   mobile_wt  n_cores  ...  px_height  px_width   ram  sc_h  sc_w  talk_time  \\\n",
       "0        188        2  ...         20       756  2549     9     7         19   \n",
       "\n",
       "   three_g  touch_screen  wifi  price_range  \n",
       "0        0             0     1            1  \n",
       "\n",
       "[1 rows x 21 columns]"
      ]
     },
     "execution_count": 14,
     "metadata": {},
     "output_type": "execute_result"
    }
   ],
   "source": [
    "df.head(1)"
   ]
  },
  {
   "cell_type": "code",
   "execution_count": 13,
   "id": "0a151a8d",
   "metadata": {},
   "outputs": [
    {
     "data": {
      "text/plain": [
       "{'whiskers': [<matplotlib.lines.Line2D at 0x7fa36afa5a30>,\n",
       "  <matplotlib.lines.Line2D at 0x7fa36afa5d00>,\n",
       "  <matplotlib.lines.Line2D at 0x7fa36af49e50>,\n",
       "  <matplotlib.lines.Line2D at 0x7fa36af56160>,\n",
       "  <matplotlib.lines.Line2D at 0x7fa36af60280>,\n",
       "  <matplotlib.lines.Line2D at 0x7fa36af60550>,\n",
       "  <matplotlib.lines.Line2D at 0x7fa36af70670>,\n",
       "  <matplotlib.lines.Line2D at 0x7fa36af70940>,\n",
       "  <matplotlib.lines.Line2D at 0x7fa36af7ea60>,\n",
       "  <matplotlib.lines.Line2D at 0x7fa36af7ed30>,\n",
       "  <matplotlib.lines.Line2D at 0x7fa36af0ae50>,\n",
       "  <matplotlib.lines.Line2D at 0x7fa36af17160>,\n",
       "  <matplotlib.lines.Line2D at 0x7fa36af0e280>,\n",
       "  <matplotlib.lines.Line2D at 0x7fa36af0e550>,\n",
       "  <matplotlib.lines.Line2D at 0x7fa36af33670>,\n",
       "  <matplotlib.lines.Line2D at 0x7fa36af33940>,\n",
       "  <matplotlib.lines.Line2D at 0x7fa36aec0a60>,\n",
       "  <matplotlib.lines.Line2D at 0x7fa36aec0d30>,\n",
       "  <matplotlib.lines.Line2D at 0x7fa36aecbe50>,\n",
       "  <matplotlib.lines.Line2D at 0x7fa36af3d160>,\n",
       "  <matplotlib.lines.Line2D at 0x7fa36aee2280>,\n",
       "  <matplotlib.lines.Line2D at 0x7fa36aee2550>,\n",
       "  <matplotlib.lines.Line2D at 0x7fa36aef3670>,\n",
       "  <matplotlib.lines.Line2D at 0x7fa36aef3940>,\n",
       "  <matplotlib.lines.Line2D at 0x7fa36ae7f940>,\n",
       "  <matplotlib.lines.Line2D at 0x7fa36ae7fc10>,\n",
       "  <matplotlib.lines.Line2D at 0x7fa36ae8ed30>,\n",
       "  <matplotlib.lines.Line2D at 0x7fa36ae99040>,\n",
       "  <matplotlib.lines.Line2D at 0x7fa36aea6160>,\n",
       "  <matplotlib.lines.Line2D at 0x7fa36aea6430>,\n",
       "  <matplotlib.lines.Line2D at 0x7fa36aeb4550>,\n",
       "  <matplotlib.lines.Line2D at 0x7fa36aeb4820>,\n",
       "  <matplotlib.lines.Line2D at 0x7fa36ae41940>,\n",
       "  <matplotlib.lines.Line2D at 0x7fa36ae41c10>,\n",
       "  <matplotlib.lines.Line2D at 0x7fa36ae4dd30>,\n",
       "  <matplotlib.lines.Line2D at 0x7fa36ae5b040>,\n",
       "  <matplotlib.lines.Line2D at 0x7fa36ae69160>,\n",
       "  <matplotlib.lines.Line2D at 0x7fa36ae69430>,\n",
       "  <matplotlib.lines.Line2D at 0x7fa36ae75550>,\n",
       "  <matplotlib.lines.Line2D at 0x7fa36ae75820>,\n",
       "  <matplotlib.lines.Line2D at 0x7fa36ae02940>,\n",
       "  <matplotlib.lines.Line2D at 0x7fa36ae02c10>],\n",
       " 'caps': [<matplotlib.lines.Line2D at 0x7fa36afa5fd0>,\n",
       "  <matplotlib.lines.Line2D at 0x7fa36af492e0>,\n",
       "  <matplotlib.lines.Line2D at 0x7fa36af56430>,\n",
       "  <matplotlib.lines.Line2D at 0x7fa36af56700>,\n",
       "  <matplotlib.lines.Line2D at 0x7fa36af60820>,\n",
       "  <matplotlib.lines.Line2D at 0x7fa36af60af0>,\n",
       "  <matplotlib.lines.Line2D at 0x7fa36af70c10>,\n",
       "  <matplotlib.lines.Line2D at 0x7fa36af70ee0>,\n",
       "  <matplotlib.lines.Line2D at 0x7fa36af0a040>,\n",
       "  <matplotlib.lines.Line2D at 0x7fa36af0a310>,\n",
       "  <matplotlib.lines.Line2D at 0x7fa36af17430>,\n",
       "  <matplotlib.lines.Line2D at 0x7fa36af17700>,\n",
       "  <matplotlib.lines.Line2D at 0x7fa36af0e820>,\n",
       "  <matplotlib.lines.Line2D at 0x7fa36af0eaf0>,\n",
       "  <matplotlib.lines.Line2D at 0x7fa36af33c10>,\n",
       "  <matplotlib.lines.Line2D at 0x7fa36af33ee0>,\n",
       "  <matplotlib.lines.Line2D at 0x7fa36aecb040>,\n",
       "  <matplotlib.lines.Line2D at 0x7fa36aecb310>,\n",
       "  <matplotlib.lines.Line2D at 0x7fa36af3d430>,\n",
       "  <matplotlib.lines.Line2D at 0x7fa36af3d700>,\n",
       "  <matplotlib.lines.Line2D at 0x7fa36aee2820>,\n",
       "  <matplotlib.lines.Line2D at 0x7fa36aee2af0>,\n",
       "  <matplotlib.lines.Line2D at 0x7fa36aef3af0>,\n",
       "  <matplotlib.lines.Line2D at 0x7fa36aef3dc0>,\n",
       "  <matplotlib.lines.Line2D at 0x7fa36ae7fee0>,\n",
       "  <matplotlib.lines.Line2D at 0x7fa36ae8e1f0>,\n",
       "  <matplotlib.lines.Line2D at 0x7fa36ae99310>,\n",
       "  <matplotlib.lines.Line2D at 0x7fa36ae995e0>,\n",
       "  <matplotlib.lines.Line2D at 0x7fa36aea6700>,\n",
       "  <matplotlib.lines.Line2D at 0x7fa36aea69d0>,\n",
       "  <matplotlib.lines.Line2D at 0x7fa36aeb4af0>,\n",
       "  <matplotlib.lines.Line2D at 0x7fa36aeb4dc0>,\n",
       "  <matplotlib.lines.Line2D at 0x7fa36ae41ee0>,\n",
       "  <matplotlib.lines.Line2D at 0x7fa36ae4d1f0>,\n",
       "  <matplotlib.lines.Line2D at 0x7fa36ae5b310>,\n",
       "  <matplotlib.lines.Line2D at 0x7fa36ae5b5e0>,\n",
       "  <matplotlib.lines.Line2D at 0x7fa36ae69700>,\n",
       "  <matplotlib.lines.Line2D at 0x7fa36ae699d0>,\n",
       "  <matplotlib.lines.Line2D at 0x7fa36ae75af0>,\n",
       "  <matplotlib.lines.Line2D at 0x7fa36ae75dc0>,\n",
       "  <matplotlib.lines.Line2D at 0x7fa36ae02ee0>,\n",
       "  <matplotlib.lines.Line2D at 0x7fa36ae101f0>],\n",
       " 'boxes': [<matplotlib.lines.Line2D at 0x7fa36af98610>,\n",
       "  <matplotlib.lines.Line2D at 0x7fa36af49b80>,\n",
       "  <matplotlib.lines.Line2D at 0x7fa36af56f70>,\n",
       "  <matplotlib.lines.Line2D at 0x7fa36af703a0>,\n",
       "  <matplotlib.lines.Line2D at 0x7fa36af7e790>,\n",
       "  <matplotlib.lines.Line2D at 0x7fa36af0ab80>,\n",
       "  <matplotlib.lines.Line2D at 0x7fa36af17f70>,\n",
       "  <matplotlib.lines.Line2D at 0x7fa36af333a0>,\n",
       "  <matplotlib.lines.Line2D at 0x7fa36aec0790>,\n",
       "  <matplotlib.lines.Line2D at 0x7fa36aecbb80>,\n",
       "  <matplotlib.lines.Line2D at 0x7fa36af3df70>,\n",
       "  <matplotlib.lines.Line2D at 0x7fa36aef33a0>,\n",
       "  <matplotlib.lines.Line2D at 0x7fa36ae7f670>,\n",
       "  <matplotlib.lines.Line2D at 0x7fa36ae8ea60>,\n",
       "  <matplotlib.lines.Line2D at 0x7fa36ae99e50>,\n",
       "  <matplotlib.lines.Line2D at 0x7fa36aeb4280>,\n",
       "  <matplotlib.lines.Line2D at 0x7fa36ae41670>,\n",
       "  <matplotlib.lines.Line2D at 0x7fa36ae4da60>,\n",
       "  <matplotlib.lines.Line2D at 0x7fa36ae5be50>,\n",
       "  <matplotlib.lines.Line2D at 0x7fa36ae75280>,\n",
       "  <matplotlib.lines.Line2D at 0x7fa36ae02670>],\n",
       " 'medians': [<matplotlib.lines.Line2D at 0x7fa36af495b0>,\n",
       "  <matplotlib.lines.Line2D at 0x7fa36af569d0>,\n",
       "  <matplotlib.lines.Line2D at 0x7fa36af60dc0>,\n",
       "  <matplotlib.lines.Line2D at 0x7fa36af7e1f0>,\n",
       "  <matplotlib.lines.Line2D at 0x7fa36af0a5e0>,\n",
       "  <matplotlib.lines.Line2D at 0x7fa36af179d0>,\n",
       "  <matplotlib.lines.Line2D at 0x7fa36af0edc0>,\n",
       "  <matplotlib.lines.Line2D at 0x7fa36aec01f0>,\n",
       "  <matplotlib.lines.Line2D at 0x7fa36aecb5e0>,\n",
       "  <matplotlib.lines.Line2D at 0x7fa36af3d9d0>,\n",
       "  <matplotlib.lines.Line2D at 0x7fa36aee2dc0>,\n",
       "  <matplotlib.lines.Line2D at 0x7fa36ae7f0d0>,\n",
       "  <matplotlib.lines.Line2D at 0x7fa36ae8e4c0>,\n",
       "  <matplotlib.lines.Line2D at 0x7fa36ae998b0>,\n",
       "  <matplotlib.lines.Line2D at 0x7fa36aea6ca0>,\n",
       "  <matplotlib.lines.Line2D at 0x7fa36ae410d0>,\n",
       "  <matplotlib.lines.Line2D at 0x7fa36ae4d4c0>,\n",
       "  <matplotlib.lines.Line2D at 0x7fa36ae5b8b0>,\n",
       "  <matplotlib.lines.Line2D at 0x7fa36ae69ca0>,\n",
       "  <matplotlib.lines.Line2D at 0x7fa36ae020d0>,\n",
       "  <matplotlib.lines.Line2D at 0x7fa36ae104c0>],\n",
       " 'fliers': [<matplotlib.lines.Line2D at 0x7fa36af49880>,\n",
       "  <matplotlib.lines.Line2D at 0x7fa36af56ca0>,\n",
       "  <matplotlib.lines.Line2D at 0x7fa36af700d0>,\n",
       "  <matplotlib.lines.Line2D at 0x7fa36af7e4c0>,\n",
       "  <matplotlib.lines.Line2D at 0x7fa36af0a8b0>,\n",
       "  <matplotlib.lines.Line2D at 0x7fa36af17ca0>,\n",
       "  <matplotlib.lines.Line2D at 0x7fa36af330d0>,\n",
       "  <matplotlib.lines.Line2D at 0x7fa36aec04c0>,\n",
       "  <matplotlib.lines.Line2D at 0x7fa36aecb8b0>,\n",
       "  <matplotlib.lines.Line2D at 0x7fa36af3dca0>,\n",
       "  <matplotlib.lines.Line2D at 0x7fa36aef30d0>,\n",
       "  <matplotlib.lines.Line2D at 0x7fa36ae7f3a0>,\n",
       "  <matplotlib.lines.Line2D at 0x7fa36ae8e790>,\n",
       "  <matplotlib.lines.Line2D at 0x7fa36ae99b80>,\n",
       "  <matplotlib.lines.Line2D at 0x7fa36aea6f70>,\n",
       "  <matplotlib.lines.Line2D at 0x7fa36ae413a0>,\n",
       "  <matplotlib.lines.Line2D at 0x7fa36ae4d790>,\n",
       "  <matplotlib.lines.Line2D at 0x7fa36ae5bb80>,\n",
       "  <matplotlib.lines.Line2D at 0x7fa36ae69f70>,\n",
       "  <matplotlib.lines.Line2D at 0x7fa36ae023a0>,\n",
       "  <matplotlib.lines.Line2D at 0x7fa36ae10790>],\n",
       " 'means': []}"
      ]
     },
     "execution_count": 13,
     "metadata": {},
     "output_type": "execute_result"
    },
    {
     "data": {
      "image/png": "[encoded data removed]",
      "text/plain": [
       "<Figure size 432x288 with 1 Axes>"
      ]
     },
     "metadata": {
      "needs_background": "light"
     },
     "output_type": "display_data"
    }
   ],
   "source": [
    "plt.boxplot(df)"
   ]
  },
  {
   "cell_type": "code",
   "execution_count": 15,
   "id": "ae389989",
   "metadata": {},
   "outputs": [
    {
     "data": {
      "text/plain": [
       "(array([[   0.,  422.,  545.,  512.,  521.,    0.,    0.,    0.,    0.,\n",
       "            0.],\n",
       "        [2000.,    0.,    0.,    0.,    0.,    0.,    0.,    0.,    0.,\n",
       "            0.],\n",
       "        [2000.,    0.,    0.,    0.,    0.,    0.,    0.,    0.,    0.,\n",
       "            0.],\n",
       "        [2000.,    0.,    0.,    0.,    0.,    0.,    0.,    0.,    0.,\n",
       "            0.],\n",
       "        [2000.,    0.,    0.,    0.,    0.,    0.,    0.,    0.,    0.,\n",
       "            0.],\n",
       "        [2000.,    0.,    0.,    0.,    0.,    0.,    0.,    0.,    0.,\n",
       "            0.],\n",
       "        [2000.,    0.,    0.,    0.,    0.,    0.,    0.,    0.,    0.,\n",
       "            0.],\n",
       "        [2000.,    0.,    0.,    0.,    0.,    0.,    0.,    0.,    0.,\n",
       "            0.],\n",
       "        [2000.,    0.,    0.,    0.,    0.,    0.,    0.,    0.,    0.,\n",
       "            0.],\n",
       "        [2000.,    0.,    0.,    0.,    0.,    0.,    0.,    0.,    0.,\n",
       "            0.],\n",
       "        [2000.,    0.,    0.,    0.,    0.,    0.,    0.,    0.,    0.,\n",
       "            0.],\n",
       "        [ 720.,  617.,  398.,  199.,   66.,    0.,    0.,    0.,    0.,\n",
       "            0.],\n",
       "        [   0.,  391.,  535.,  536.,  538.,    0.,    0.,    0.,    0.,\n",
       "            0.],\n",
       "        [  72.,  232.,  189.,  225.,  201.,  238.,  216.,  192.,  211.,\n",
       "          224.],\n",
       "        [2000.,    0.,    0.,    0.,    0.,    0.,    0.,    0.,    0.,\n",
       "            0.],\n",
       "        [2000.,    0.,    0.,    0.,    0.,    0.,    0.,    0.,    0.,\n",
       "            0.],\n",
       "        [2000.,    0.,    0.,    0.,    0.,    0.,    0.,    0.,    0.,\n",
       "            0.],\n",
       "        [2000.,    0.,    0.,    0.,    0.,    0.,    0.,    0.,    0.,\n",
       "            0.],\n",
       "        [2000.,    0.,    0.,    0.,    0.,    0.,    0.,    0.,    0.,\n",
       "            0.],\n",
       "        [2000.,    0.,    0.,    0.,    0.,    0.,    0.,    0.,    0.,\n",
       "            0.],\n",
       "        [2000.,    0.,    0.,    0.,    0.,    0.,    0.,    0.,    0.,\n",
       "            0.]]),\n",
       " array([   0. ,  399.8,  799.6, 1199.4, 1599.2, 1999. , 2398.8, 2798.6,\n",
       "        3198.4, 3598.2, 3998. ]),\n",
       " <a list of 21 BarContainer objects>)"
      ]
     },
     "execution_count": 15,
     "metadata": {},
     "output_type": "execute_result"
    },
    {
     "data": {
      "image/png": "[encoded data removed]",
      "text/plain": [
       "<Figure size 432x288 with 1 Axes>"
      ]
     },
     "metadata": {
      "needs_background": "light"
     },
     "output_type": "display_data"
    }
   ],
   "source": [
    "plt.hist(df)"
   ]
  },
  {
   "cell_type": "code",
   "execution_count": 16,
   "id": "7463f2cb",
   "metadata": {},
   "outputs": [],
   "source": [
    "from sklearn.tree import DecisionTreeClassifier\n"
   ]
  },
  {
   "cell_type": "code",
   "execution_count": 17,
   "id": "247fc6db",
   "metadata": {},
   "outputs": [],
   "source": [
    "y=df[\"price_range\"]"
   ]
  },
  {
   "cell_type": "code",
   "execution_count": 18,
   "id": "0dd482d1",
   "metadata": {},
   "outputs": [
    {
     "data": {
      "text/plain": [
       "0       1\n",
       "1       2\n",
       "2       2\n",
       "3       2\n",
       "4       1\n",
       "       ..\n",
       "1995    0\n",
       "1996    2\n",
       "1997    3\n",
       "1998    0\n",
       "1999    3\n",
       "Name: price_range, Length: 2000, dtype: int64"
      ]
     },
     "execution_count": 18,
     "metadata": {},
     "output_type": "execute_result"
    }
   ],
   "source": [
    "y"
   ]
  },
  {
   "cell_type": "code",
   "execution_count": 19,
   "id": "db275275",
   "metadata": {},
   "outputs": [],
   "source": [
    "df.drop(columns=[\"price_range\"],inplace=True)"
   ]
  },
  {
   "cell_type": "code",
   "execution_count": 20,
   "id": "5ded34ae",
   "metadata": {},
   "outputs": [
    {
     "name": "stdout",
     "output_type": "stream",
     "text": [
      "<class 'pandas.core.frame.DataFrame'>\n",
      "RangeIndex: 2000 entries, 0 to 1999\n",
      "Data columns (total 20 columns):\n",
      " #   Column         Non-Null Count  Dtype  \n",
      "---  ------         --------------  -----  \n",
      " 0   battery_power  2000 non-null   int64  \n",
      " 1   blue           2000 non-null   int64  \n",
      " 2   clock_speed    2000 non-null   float64\n",
      " 3   dual_sim       2000 non-null   int64  \n",
      " 4   fc             2000 non-null   int64  \n",
      " 5   four_g         2000 non-null   int64  \n",
      " 6   int_memory     2000 non-null   int64  \n",
      " 7   m_dep          2000 non-null   float64\n",
      " 8   mobile_wt      2000 non-null   int64  \n",
      " 9   n_cores        2000 non-null   int64  \n",
      " 10  pc             2000 non-null   int64  \n",
      " 11  px_height      2000 non-null   int64  \n",
      " 12  px_width       2000 non-null   int64  \n",
      " 13  ram            2000 non-null   int64  \n",
      " 14  sc_h           2000 non-null   int64  \n",
      " 15  sc_w           2000 non-null   int64  \n",
      " 16  talk_time      2000 non-null   int64  \n",
      " 17  three_g        2000 non-null   int64  \n",
      " 18  touch_screen   2000 non-null   int64  \n",
      " 19  wifi           2000 non-null   int64  \n",
      "dtypes: float64(2), int64(18)\n",
      "memory usage: 312.6 KB\n"
     ]
    }
   ],
   "source": [
    "df.info()"
   ]
  },
  {
   "cell_type": "code",
   "execution_count": 21,
   "id": "cbb9098d",
   "metadata": {},
   "outputs": [],
   "source": [
    "model=DecisionTreeClassifier()\n"
   ]
  },
  {
   "cell_type": "code",
   "execution_count": 22,
   "id": "7724fbb5",
   "metadata": {},
   "outputs": [],
   "source": [
    "from sklearn.model_selection import train_test_split\n"
   ]
  },
  {
   "cell_type": "code",
   "execution_count": 23,
   "id": "9fe05a29",
   "metadata": {},
   "outputs": [],
   "source": [
    "X_train,X_test,y_train,y_test=train_test_split(df,y)"
   ]
  },
  {
   "cell_type": "code",
   "execution_count": null,
   "id": "5186ab31",
   "metadata": {},
   "outputs": [],
   "source": []
  },
  {
   "cell_type": "code",
   "execution_count": 24,
   "id": "102c2175",
   "metadata": {},
   "outputs": [
    {
     "data": {
      "text/html": [
       "<style>#sk-container-id-1 {color: black;background-color: white;}#sk-container-id-1 pre{padding: 0;}#sk-container-id-1 div.sk-toggleable {background-color: white;}#sk-container-id-1 label.sk-toggleable__label {cursor: pointer;display: block;width: 100%;margin-bottom: 0;padding: 0.3em;box-sizing: border-box;text-align: center;}#sk-container-id-1 label.sk-toggleable__label-arrow:before {content: \"▸\";float: left;margin-right: 0.25em;color: #696969;}#sk-container-id-1 label.sk-toggleable__label-arrow:hover:before {color: black;}#sk-container-id-1 div.sk-estimator:hover label.sk-toggleable__label-arrow:before {color: black;}#sk-container-id-1 div.sk-toggleable__content {max-height: 0;max-width: 0;overflow: hidden;text-align: left;background-color: #f0f8ff;}#sk-container-id-1 div.sk-toggleable__content pre {margin: 0.2em;color: black;border-radius: 0.25em;background-color: #f0f8ff;}#sk-container-id-1 input.sk-toggleable__control:checked~div.sk-toggleable__content {max-height: 200px;max-width: 100%;overflow: auto;}#sk-container-id-1 input.sk-toggleable__control:checked~label.sk-toggleable__label-arrow:before {content: \"▾\";}#sk-container-id-1 div.sk-estimator input.sk-toggleable__control:checked~label.sk-toggleable__label {background-color: #d4ebff;}#sk-container-id-1 div.sk-label input.sk-toggleable__control:checked~label.sk-toggleable__label {background-color: #d4ebff;}#sk-container-id-1 input.sk-hidden--visually {border: 0;clip: rect(1px 1px 1px 1px);clip: rect(1px, 1px, 1px, 1px);height: 1px;margin: -1px;overflow: hidden;padding: 0;position: absolute;width: 1px;}#sk-container-id-1 div.sk-estimator {font-family: monospace;background-color: #f0f8ff;border: 1px dotted black;border-radius: 0.25em;box-sizing: border-box;margin-bottom: 0.5em;}#sk-container-id-1 div.sk-estimator:hover {background-color: #d4ebff;}#sk-container-id-1 div.sk-parallel-item::after {content: \"\";width: 100%;border-bottom: 1px solid gray;flex-grow: 1;}#sk-container-id-1 div.sk-label:hover label.sk-toggleable__label {background-color: #d4ebff;}#sk-container-id-1 div.sk-serial::before {content: \"\";position: absolute;border-left: 1px solid gray;box-sizing: border-box;top: 0;bottom: 0;left: 50%;z-index: 0;}#sk-container-id-1 div.sk-serial {display: flex;flex-direction: column;align-items: center;background-color: white;padding-right: 0.2em;padding-left: 0.2em;position: relative;}#sk-container-id-1 div.sk-item {position: relative;z-index: 1;}#sk-container-id-1 div.sk-parallel {display: flex;align-items: stretch;justify-content: center;background-color: white;position: relative;}#sk-container-id-1 div.sk-item::before, #sk-container-id-1 div.sk-parallel-item::before {content: \"\";position: absolute;border-left: 1px solid gray;box-sizing: border-box;top: 0;bottom: 0;left: 50%;z-index: -1;}#sk-container-id-1 div.sk-parallel-item {display: flex;flex-direction: column;z-index: 1;position: relative;background-color: white;}#sk-container-id-1 div.sk-parallel-item:first-child::after {align-self: flex-end;width: 50%;}#sk-container-id-1 div.sk-parallel-item:last-child::after {align-self: flex-start;width: 50%;}#sk-container-id-1 div.sk-parallel-item:only-child::after {width: 0;}#sk-container-id-1 div.sk-dashed-wrapped {border: 1px dashed gray;margin: 0 0.4em 0.5em 0.4em;box-sizing: border-box;padding-bottom: 0.4em;background-color: white;}#sk-container-id-1 div.sk-label label {font-family: monospace;font-weight: bold;display: inline-block;line-height: 1.2em;}#sk-container-id-1 div.sk-label-container {text-align: center;}#sk-container-id-1 div.sk-container {/* jupyter's `normalize.less` sets `[hidden] { display: none; }` but bootstrap.min.css set `[hidden] { display: none !important; }` so we also need the `!important` here to be able to override the default hidden behavior on the sphinx rendered scikit-learn.org. See: https://github.com/scikit-learn/scikit-learn/issues/21755 */display: inline-block !important;position: relative;}#sk-container-id-1 div.sk-text-repr-fallback {display: none;}</style><div id=\"sk-container-id-1\" class=\"sk-top-container\"><div class=\"sk-text-repr-fallback\"><pre>DecisionTreeClassifier()</pre><b>In a Jupyter environment, please rerun this cell to show the HTML representation or trust the notebook. <br />On GitHub, the HTML representation is unable to render, please try loading this page with nbviewer.org.</b></div><div class=\"sk-container\" hidden><div class=\"sk-item\"><div class=\"sk-estimator sk-toggleable\"><input class=\"sk-toggleable__control sk-hidden--visually\" id=\"sk-estimator-id-1\" type=\"checkbox\" checked><label for=\"sk-estimator-id-1\" class=\"sk-toggleable__label sk-toggleable__label-arrow\">DecisionTreeClassifier</label><div class=\"sk-toggleable__content\"><pre>DecisionTreeClassifier()</pre></div></div></div></div></div>"
      ],
      "text/plain": [
       "DecisionTreeClassifier()"
      ]
     },
     "execution_count": 24,
     "metadata": {},
     "output_type": "execute_result"
    }
   ],
   "source": [
    "model.fit(X_train,y_train)"
   ]
  },
  {
   "cell_type": "code",
   "execution_count": null,
   "id": "aac4a2d4",
   "metadata": {},
   "outputs": [],
   "source": []
  },
  {
   "cell_type": "code",
   "execution_count": 25,
   "id": "5eb9005c",
   "metadata": {},
   "outputs": [],
   "source": [
    "pre=model.predict(X_test)"
   ]
  },
  {
   "cell_type": "code",
   "execution_count": 26,
   "id": "a60ee27b",
   "metadata": {},
   "outputs": [],
   "source": [
    "sc=model.score(X_test,y_test)"
   ]
  },
  {
   "cell_type": "code",
   "execution_count": 27,
   "id": "86f7a5da",
   "metadata": {},
   "outputs": [
    {
     "data": {
      "text/plain": [
       "0.826"
      ]
     },
     "execution_count": 27,
     "metadata": {},
     "output_type": "execute_result"
    }
   ],
   "source": [
    "sc\n"
   ]
  },
  {
   "cell_type": "code",
   "execution_count": 28,
   "id": "6f6d8757",
   "metadata": {},
   "outputs": [
    {
     "data": {
      "text/plain": [
       "array([2, 3, 2, 3, 2, 3, 1, 3, 0, 1, 2, 3, 1, 0, 1, 3, 0, 2, 1, 0, 0, 0,\n",
       "       3, 1, 2, 2, 3, 3, 3, 2, 2, 1, 2, 0, 2, 1, 0, 2, 2, 1, 1, 0, 2, 3,\n",
       "       2, 3, 0, 2, 3, 0, 0, 0, 0, 0, 0, 0, 1, 2, 0, 2, 2, 3, 3, 2, 0, 2,\n",
       "       0, 1, 1, 0, 1, 3, 0, 1, 0, 1, 2, 0, 3, 1, 2, 1, 1, 0, 1, 0, 0, 3,\n",
       "       3, 0, 1, 2, 0, 3, 0, 3, 3, 2, 1, 3, 3, 1, 2, 2, 0, 3, 1, 2, 3, 0,\n",
       "       2, 1, 2, 1, 3, 3, 2, 1, 2, 2, 0, 2, 2, 2, 1, 3, 2, 0, 1, 0, 3, 0,\n",
       "       1, 0, 0, 0, 1, 3, 3, 0, 0, 2, 1, 0, 1, 1, 0, 1, 2, 0, 1, 0, 0, 0,\n",
       "       2, 2, 0, 2, 2, 0, 3, 2, 3, 2, 2, 2, 1, 0, 2, 0, 2, 1, 3, 0, 2, 0,\n",
       "       3, 2, 1, 2, 0, 1, 0, 2, 2, 2, 1, 1, 0, 3, 2, 2, 2, 0, 1, 3, 2, 1,\n",
       "       3, 0, 0, 2, 0, 3, 1, 2, 2, 0, 2, 2, 3, 0, 1, 3, 3, 3, 3, 0, 2, 1,\n",
       "       1, 2, 2, 1, 2, 0, 0, 1, 3, 1, 2, 2, 0, 2, 1, 0, 1, 2, 1, 0, 1, 1,\n",
       "       0, 2, 2, 0, 2, 2, 3, 2, 2, 3, 0, 3, 0, 1, 2, 0, 3, 0, 2, 2, 1, 0,\n",
       "       1, 2, 0, 1, 1, 1, 2, 3, 3, 3, 0, 1, 2, 2, 0, 3, 2, 3, 1, 3, 3, 3,\n",
       "       0, 3, 2, 3, 0, 0, 1, 0, 0, 0, 1, 0, 3, 1, 1, 1, 2, 1, 2, 1, 1, 0,\n",
       "       3, 3, 0, 1, 1, 0, 3, 0, 2, 3, 3, 3, 3, 3, 2, 0, 0, 2, 0, 0, 0, 0,\n",
       "       0, 1, 2, 3, 1, 2, 3, 3, 0, 1, 1, 3, 3, 0, 3, 1, 2, 0, 3, 0, 2, 3,\n",
       "       0, 3, 2, 2, 2, 3, 0, 1, 0, 0, 0, 0, 0, 2, 3, 2, 3, 3, 3, 1, 2, 2,\n",
       "       3, 0, 0, 2, 0, 0, 0, 1, 0, 0, 0, 1, 0, 2, 0, 2, 0, 2, 2, 1, 1, 3,\n",
       "       1, 3, 1, 2, 2, 0, 3, 0, 2, 2, 0, 3, 0, 3, 2, 1, 1, 2, 0, 2, 3, 0,\n",
       "       3, 2, 2, 1, 2, 0, 0, 1, 2, 2, 3, 2, 1, 3, 2, 3, 3, 1, 0, 0, 1, 1,\n",
       "       1, 2, 1, 0, 2, 1, 0, 0, 3, 3, 0, 0, 2, 3, 1, 0, 3, 1, 2, 2, 0, 1,\n",
       "       3, 0, 1, 2, 3, 0, 2, 2, 2, 0, 0, 1, 1, 0, 0, 0, 1, 3, 1, 1, 2, 0,\n",
       "       1, 0, 2, 3, 1, 0, 1, 2, 1, 3, 3, 1, 3, 1, 0, 0])"
      ]
     },
     "execution_count": 28,
     "metadata": {},
     "output_type": "execute_result"
    }
   ],
   "source": [
    "pre"
   ]
  },
  {
   "cell_type": "code",
   "execution_count": 35,
   "id": "1b5812ff",
   "metadata": {},
   "outputs": [],
   "source": [
    "a=pd.DataFrame(np.array([[842,0,2.2,0,1,0,7,0.6,188,2,2,20,756,2549,9,7,19,0,0,1]]),\n",
    "             columns=[\"battery_power\",\"blue\",\"clock_speed\",\"dual_sim\",\"fc\",\"four_g\",\"int_memory\",\"m_dep\",\"mobile_wt\",\"n_cores\",\"pc\",\"px_height\",\"px_width\",\"ram\",\"sc_h\",\"sc_w\",\"talk_time\",\"three_g\",\"touch_screen\",\"wifi\"],\n",
    "            )"
   ]
  },
  {
   "cell_type": "code",
   "execution_count": 36,
   "id": "aea6c4da",
   "metadata": {},
   "outputs": [
    {
     "data": {
      "text/plain": [
       "array([1])"
      ]
     },
     "execution_count": 36,
     "metadata": {},
     "output_type": "execute_result"
    }
   ],
   "source": [
    "model.predict(a)"
   ]
  },
  {
   "cell_type": "code",
   "execution_count": null,
   "id": "3524f48c",
   "metadata": {},
   "outputs": [],
   "source": []
  }
 ],
 "metadata": {
  "kernelspec": {
   "display_name": "Python 3 (ipykernel)",
   "language": "python",
   "name": "python3"
  },
  "language_info": {
   "codemirror_mode": {
    "name": "ipython",
    "version": 3
   },
   "file_extension": ".py",
   "mimetype": "text/x-python",
   "name": "python",
   "nbconvert_exporter": "python",
   "pygments_lexer": "ipython3",
   "version": "3.9.10"
  }
 },
 "nbformat": 4,
 "nbformat_minor": 5
}
